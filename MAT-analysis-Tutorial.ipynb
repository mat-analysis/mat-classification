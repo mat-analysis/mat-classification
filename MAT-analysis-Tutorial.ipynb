{
 "cells": [
  {
   "cell_type": "markdown",
   "metadata": {},
   "source": [
    "# MAT-analysis: Analisys and Classification methods for Multiple Aspect Trajectory Data Mining \\[MAT-Tools Framework\\]\n",
    "\n",
    "Sample Code in python notebook to use mat-data as a python library.\n",
    "\n",
    "The present package offers a tool, to support the user in the task of data analysis of multiple aspect trajectories. It integrates into a unique framework for multiple aspects trajectories and in general for multidimensional sequence data mining methods.\n",
    "\n",
    "Created on Dec, 2023\n",
    "Copyright (C) 2023, License GPL Version 3 or superior (see LICENSE file)"
   ]
  },
  {
   "cell_type": "code",
   "execution_count": 1,
   "metadata": {},
   "outputs": [],
   "source": [
    "!pip3 install mat-analysis"
   ]
  },
  {
   "cell_type": "markdown",
   "metadata": {},
   "source": [
    "## 1. Loading data\n",
    "To use helpers for data pre-processing, import from package `matdata` (dependency: [mat-data](https://github.com/ttportela/mat-data)):"
   ]
  },
  {
   "cell_type": "markdown",
   "metadata": {},
   "source": [
    "    a) Lets start by loading Brightkite data, and stratify to 10% of the data:"
   ]
  },
  {
   "cell_type": "code",
   "execution_count": 1,
   "metadata": {
    "tags": []
   },
   "outputs": [
    {
     "name": "stdout",
     "output_type": "stream",
     "text": [
      "Reading dataset Brightkite of Multiple Aspect Trajectories\n"
     ]
    },
    {
     "data": {
      "application/vnd.jupyter.widget-view+json": {
       "model_id": "83ee7fa1d9c447c0be76276cab58c6a6",
       "version_major": 2,
       "version_minor": 0
      },
      "text/plain": [
       "Brightkite (Multiple Aspect Trajectories):   0%|          | 0/2 [00:00<?, ?it/s]"
      ]
     },
     "metadata": {},
     "output_type": "display_data"
    },
    {
     "data": {
      "application/vnd.jupyter.widget-view+json": {
       "model_id": "da1ef71e619149c8af3b4c9ef2506113",
       "version_major": 2,
       "version_minor": 0
      },
      "text/plain": [
       "  0%|          | 0/300 [00:00<?, ?it/s]"
      ]
     },
     "metadata": {},
     "output_type": "display_data"
    },
    {
     "data": {
      "text/html": [
       "<div>\n",
       "<style scoped>\n",
       "    .dataframe tbody tr th:only-of-type {\n",
       "        vertical-align: middle;\n",
       "    }\n",
       "\n",
       "    .dataframe tbody tr th {\n",
       "        vertical-align: top;\n",
       "    }\n",
       "\n",
       "    .dataframe thead th {\n",
       "        text-align: right;\n",
       "    }\n",
       "</style>\n",
       "<table border=\"1\" class=\"dataframe\">\n",
       "  <thead>\n",
       "    <tr style=\"text-align: right;\">\n",
       "      <th></th>\n",
       "      <th>lat</th>\n",
       "      <th>lon</th>\n",
       "      <th>time</th>\n",
       "      <th>day</th>\n",
       "      <th>poi</th>\n",
       "      <th>tid</th>\n",
       "      <th>label</th>\n",
       "    </tr>\n",
       "  </thead>\n",
       "  <tbody>\n",
       "    <tr>\n",
       "      <th>11</th>\n",
       "      <td>39.739154</td>\n",
       "      <td>-104.984703</td>\n",
       "      <td>20</td>\n",
       "      <td>Tuesday</td>\n",
       "      <td>717121</td>\n",
       "      <td>3177</td>\n",
       "      <td>41</td>\n",
       "    </tr>\n",
       "    <tr>\n",
       "      <th>12</th>\n",
       "      <td>39.739154</td>\n",
       "      <td>-104.984703</td>\n",
       "      <td>228</td>\n",
       "      <td>Tuesday</td>\n",
       "      <td>717121</td>\n",
       "      <td>3177</td>\n",
       "      <td>41</td>\n",
       "    </tr>\n",
       "    <tr>\n",
       "      <th>13</th>\n",
       "      <td>39.739154</td>\n",
       "      <td>-104.984703</td>\n",
       "      <td>186</td>\n",
       "      <td>Wednesday</td>\n",
       "      <td>717121</td>\n",
       "      <td>3177</td>\n",
       "      <td>41</td>\n",
       "    </tr>\n",
       "    <tr>\n",
       "      <th>14</th>\n",
       "      <td>39.739154</td>\n",
       "      <td>-104.984703</td>\n",
       "      <td>1031</td>\n",
       "      <td>Wednesday</td>\n",
       "      <td>717121</td>\n",
       "      <td>3177</td>\n",
       "      <td>41</td>\n",
       "    </tr>\n",
       "    <tr>\n",
       "      <th>15</th>\n",
       "      <td>39.739154</td>\n",
       "      <td>-104.984703</td>\n",
       "      <td>270</td>\n",
       "      <td>Thursday</td>\n",
       "      <td>717121</td>\n",
       "      <td>3177</td>\n",
       "      <td>41</td>\n",
       "    </tr>\n",
       "    <tr>\n",
       "      <th>...</th>\n",
       "      <td>...</td>\n",
       "      <td>...</td>\n",
       "      <td>...</td>\n",
       "      <td>...</td>\n",
       "      <td>...</td>\n",
       "      <td>...</td>\n",
       "      <td>...</td>\n",
       "    </tr>\n",
       "    <tr>\n",
       "      <th>39437</th>\n",
       "      <td>33.875293</td>\n",
       "      <td>-117.566438</td>\n",
       "      <td>1429</td>\n",
       "      <td>Monday</td>\n",
       "      <td>715619</td>\n",
       "      <td>600604</td>\n",
       "      <td>54164</td>\n",
       "    </tr>\n",
       "    <tr>\n",
       "      <th>39438</th>\n",
       "      <td>34.092233</td>\n",
       "      <td>-117.435048</td>\n",
       "      <td>867</td>\n",
       "      <td>Tuesday</td>\n",
       "      <td>715811</td>\n",
       "      <td>600604</td>\n",
       "      <td>54164</td>\n",
       "    </tr>\n",
       "    <tr>\n",
       "      <th>39439</th>\n",
       "      <td>33.992514</td>\n",
       "      <td>-117.516439</td>\n",
       "      <td>1318</td>\n",
       "      <td>Tuesday</td>\n",
       "      <td>716253</td>\n",
       "      <td>600604</td>\n",
       "      <td>54164</td>\n",
       "    </tr>\n",
       "    <tr>\n",
       "      <th>39440</th>\n",
       "      <td>33.875293</td>\n",
       "      <td>-117.566438</td>\n",
       "      <td>1413</td>\n",
       "      <td>Tuesday</td>\n",
       "      <td>715619</td>\n",
       "      <td>600604</td>\n",
       "      <td>54164</td>\n",
       "    </tr>\n",
       "    <tr>\n",
       "      <th>39441</th>\n",
       "      <td>33.992514</td>\n",
       "      <td>-117.516439</td>\n",
       "      <td>0</td>\n",
       "      <td>Wednesday</td>\n",
       "      <td>716253</td>\n",
       "      <td>600604</td>\n",
       "      <td>54164</td>\n",
       "    </tr>\n",
       "  </tbody>\n",
       "</table>\n",
       "<p>13355 rows × 7 columns</p>\n",
       "</div>"
      ],
      "text/plain": [
       "             lat         lon  time        day     poi     tid  label\n",
       "11     39.739154 -104.984703    20    Tuesday  717121    3177     41\n",
       "12     39.739154 -104.984703   228    Tuesday  717121    3177     41\n",
       "13     39.739154 -104.984703   186  Wednesday  717121    3177     41\n",
       "14     39.739154 -104.984703  1031  Wednesday  717121    3177     41\n",
       "15     39.739154 -104.984703   270   Thursday  717121    3177     41\n",
       "...          ...         ...   ...        ...     ...     ...    ...\n",
       "39437  33.875293 -117.566438  1429     Monday  715619  600604  54164\n",
       "39438  34.092233 -117.435048   867    Tuesday  715811  600604  54164\n",
       "39439  33.992514 -117.516439  1318    Tuesday  716253  600604  54164\n",
       "39440  33.875293 -117.566438  1413    Tuesday  715619  600604  54164\n",
       "39441  33.992514 -117.516439     0  Wednesday  716253  600604  54164\n",
       "\n",
       "[13355 rows x 7 columns]"
      ]
     },
     "execution_count": 1,
     "metadata": {},
     "output_type": "execute_result"
    }
   ],
   "source": [
    "from matdata.datasets import load_ds\n",
    "\n",
    "dataset='mat.Brightkite'\n",
    "\n",
    "df = load_ds(dataset, sample_size=0.1)\n",
    "df"
   ]
  },
  {
   "cell_type": "markdown",
   "metadata": {},
   "source": [
    "    b) Lets split a dataset into train and test:"
   ]
  },
  {
   "cell_type": "code",
   "execution_count": 2,
   "metadata": {
    "tags": []
   },
   "outputs": [
    {
     "data": {
      "application/vnd.jupyter.widget-view+json": {
       "model_id": "06debfb5e92c469c8a4d238f8e4db8ad",
       "version_major": 2,
       "version_minor": 0
      },
      "text/plain": [
       "  0%|          | 0/300 [00:00<?, ?it/s]"
      ]
     },
     "metadata": {},
     "output_type": "display_data"
    },
    {
     "data": {
      "text/plain": [
       "('Train/Test #TIDs:', 447, 360)"
      ]
     },
     "execution_count": 2,
     "metadata": {},
     "output_type": "execute_result"
    }
   ],
   "source": [
    "from matdata.preprocess import *\n",
    "\n",
    "train, test = trainAndTestSplit(df, outformats=[])\n",
    "\n",
    "'Train/Test #TIDs:', len(train['tid'].unique()), len(test['tid'].unique())"
   ]
  },
  {
   "cell_type": "markdown",
   "metadata": {},
   "source": [
    "Then, experiment with a classifier."
   ]
  },
  {
   "cell_type": "markdown",
   "metadata": {},
   "source": [
    "## 2. Classification Methods\n",
    "\n",
    "TODO"
   ]
  },
  {
   "cell_type": "markdown",
   "metadata": {},
   "source": [
    "### 2.1. Trajectory Based Methods\n",
    "\n",
    "TODO"
   ]
  },
  {
   "cell_type": "markdown",
   "metadata": {
    "tags": []
   },
   "source": [
    "#### 2.1.1. MARC\n",
    "\n",
    "TODO"
   ]
  },
  {
   "cell_type": "code",
   "execution_count": 3,
   "metadata": {
    "tags": []
   },
   "outputs": [],
   "source": [
    "from matanalysis.methods import MARC"
   ]
  },
  {
   "cell_type": "markdown",
   "metadata": {},
   "source": [
    "TODO"
   ]
  },
  {
   "cell_type": "code",
   "execution_count": 4,
   "metadata": {
    "scrolled": true,
    "tags": []
   },
   "outputs": [
    {
     "name": "stdout",
     "output_type": "stream",
     "text": [
      "[MARC:] Starting: building neural network for MARC \n",
      "==================================== PARAMS ====================================\n",
      "METRICS_FILE = ./MARC-_results.csv\n",
      "dataset = \n",
      "embedder_size = 100\n",
      "merge_type = concatenate \n",
      "\n",
      "WARNING: File './MARC-_results.csv' not found!\n",
      "\n",
      "###########    DATA PREPARATION      ###########\n",
      "[    INFO    ] 2023-12-17 01:37:00 :: Attribute Lat/Lon: 40-bits value\n",
      "[    INFO    ] 2023-12-17 01:37:00 :: Attribute 'time': 1439 unique values\n",
      "[    INFO    ] 2023-12-17 01:37:00 :: Attribute 'day': 7 unique values\n",
      "[    INFO    ] 2023-12-17 01:37:00 :: Attribute 'poi': 1732 unique values\n",
      "[    INFO    ] 2023-12-17 01:37:00 :: Attribute 'space': 1686 unique values\n",
      "[    INFO    ] 2023-12-17 01:37:00 :: Total of attribute/value pairs: 4904\n",
      "\u001b[[    INFO    ] 2023-12-17 01:37:01 :: Processing trajectory 807/807. \n",
      "[    INFO    ] 2023-12-17 01:37:01 :: Loading data from files ... DONE!\n",
      "[    INFO    ] 2023-12-17 01:37:01 :: Trajectories:  807\n",
      "[    INFO    ] 2023-12-17 01:37:01 :: Labels:        300\n",
      "[    INFO    ] 2023-12-17 01:37:01 :: Train size:    0.5539033457249071\n",
      "[    INFO    ] 2023-12-17 01:37:01 :: Test size:     0.44609665427509293\n",
      "===================================== MARC =====================================\n",
      "CLASS_DROPOUT = 0.5\n",
      "CLASS_HIDDEN_UNITS = 100\n",
      "CLASS_LRATE = 0.001\n",
      "CLASS_BATCH_SIZE = 64\n",
      "CLASS_EPOCHS = 1000\n",
      "EARLY_STOPPING_PATIENCE = 30\n",
      "BASELINE_METRIC = acc\n",
      "BASELINE_VALUE = 0.5 \n",
      "\n",
      "Metal device set to: Apple M1\n"
     ]
    },
    {
     "name": "stderr",
     "output_type": "stream",
     "text": [
      "/Users/tarlisportela/workdir/programs/mat-analysis-pkg/matanalysis/methods/marc/marc_nn.py:446: VisibleDeprecationWarning: Creating an ndarray from ragged nested sequences (which is a list-or-tuple of lists-or-tuples-or ndarrays with different lengths or shapes) is deprecated. If you meant to do this, you must specify 'dtype=object' when creating the ndarray.\n",
      "  x = [np.asarray(f) for f in x]\n",
      "/Users/tarlisportela/miniforge3/lib/python3.9/site-packages/sklearn/base.py:450: UserWarning: X does not have valid feature names, but OneHotEncoder was fitted with feature names\n",
      "  warnings.warn(\n",
      "2023-12-17 01:37:01.573833: I tensorflow/core/common_runtime/pluggable_device/pluggable_device_factory.cc:305] Could not identify NUMA node of platform GPU ID 0, defaulting to 0. Your kernel may not have been built with NUMA support.\n",
      "2023-12-17 01:37:01.573951: I tensorflow/core/common_runtime/pluggable_device/pluggable_device_factory.cc:271] Created TensorFlow device (/job:localhost/replica:0/task:0/device:GPU:0 with 0 MB memory) -> physical PluggableDevice (device: 0, name: METAL, pci bus id: <undefined>)\n",
      "2023-12-17 01:37:01.967802: W tensorflow/core/platform/profile_utils/cpu_utils.cc:128] Failed to get CPU frequency: 0 Hz\n"
     ]
    },
    {
     "name": "stdout",
     "output_type": "stream",
     "text": [
      "===== Training Epoch 1 =====\n"
     ]
    },
    {
     "name": "stderr",
     "output_type": "stream",
     "text": [
      "2023-12-17 01:37:02.785966: I tensorflow/core/grappler/optimizers/custom_graph_optimizer_registry.cc:113] Plugin optimizer for device_type GPU is enabled.\n",
      "2023-12-17 01:37:02.999627: I tensorflow/core/grappler/optimizers/custom_graph_optimizer_registry.cc:113] Plugin optimizer for device_type GPU is enabled.\n",
      "2023-12-17 01:37:03.174132: I tensorflow/core/grappler/optimizers/custom_graph_optimizer_registry.cc:113] Plugin optimizer for device_type GPU is enabled.\n",
      "2023-12-17 01:37:04.245109: I tensorflow/core/grappler/optimizers/custom_graph_optimizer_registry.cc:113] Plugin optimizer for device_type GPU is enabled.\n",
      "2023-12-17 01:37:04.321497: I tensorflow/core/grappler/optimizers/custom_graph_optimizer_registry.cc:113] Plugin optimizer for device_type GPU is enabled.\n"
     ]
    },
    {
     "name": "stdout",
     "output_type": "stream",
     "text": [
      " 1/14 [=>............................] - ETA: 3s"
     ]
    },
    {
     "name": "stderr",
     "output_type": "stream",
     "text": [
      "2023-12-17 01:37:04.753235: I tensorflow/core/grappler/optimizers/custom_graph_optimizer_registry.cc:113] Plugin optimizer for device_type GPU is enabled.\n",
      "2023-12-17 01:37:04.815302: I tensorflow/core/grappler/optimizers/custom_graph_optimizer_registry.cc:113] Plugin optimizer for device_type GPU is enabled.\n"
     ]
    },
    {
     "name": "stdout",
     "output_type": "stream",
     "text": [
      "14/14 [==============================] - 1s 17ms/step\n",
      "TRAIN\t\tacc: 0.038031\tacc_top5: 0.080537\tf1_macro: 0.009818\tprec_macro: 0.804097\trec_macro: 0.019611\n",
      "12/12 [==============================] - 0s 18ms/step\n",
      "TEST\t\tacc: 0.027778\tacc_top5: 0.055556\tf1_macro: 0.009746\tprec_macro: 0.813819\trec_macro: 0.018889\n",
      "===== Training Epoch 2 =====\n",
      "14/14 [==============================] - 0s 11ms/step\n",
      "TRAIN\t\tacc: 0.067114\tacc_top5: 0.138702\tf1_macro: 0.019383\tprec_macro: 0.842610\trec_macro: 0.034000\n",
      "12/12 [==============================] - 0s 11ms/step\n",
      "TEST\t\tacc: 0.052778\tacc_top5: 0.091667\tf1_macro: 0.015099\tprec_macro: 0.844573\trec_macro: 0.033889\n",
      "===== Training Epoch 3 =====\n",
      "14/14 [==============================] - 0s 11ms/step\n",
      "TRAIN\t\tacc: 0.098434\tacc_top5: 0.196868\tf1_macro: 0.028162\tprec_macro: 0.860808\trec_macro: 0.049889\n",
      "12/12 [==============================] - 0s 11ms/step\n",
      "TEST\t\tacc: 0.055556\tacc_top5: 0.122222\tf1_macro: 0.016394\tprec_macro: 0.870084\trec_macro: 0.034444\n",
      "===== Training Epoch 4 =====\n",
      "14/14 [==============================] - 0s 11ms/step\n",
      "TRAIN\t\tacc: 0.131991\tacc_top5: 0.270694\tf1_macro: 0.037039\tprec_macro: 0.850398\trec_macro: 0.067167\n",
      "12/12 [==============================] - 0s 12ms/step\n",
      "TEST\t\tacc: 0.080556\tacc_top5: 0.183333\tf1_macro: 0.018853\tprec_macro: 0.837227\trec_macro: 0.050556\n",
      "===== Training Epoch 5 =====\n",
      "14/14 [==============================] - 0s 11ms/step\n",
      "TRAIN\t\tacc: 0.201342\tacc_top5: 0.342282\tf1_macro: 0.066736\tprec_macro: 0.844194\trec_macro: 0.107444\n",
      "12/12 [==============================] - 0s 12ms/step\n",
      "TEST\t\tacc: 0.136111\tacc_top5: 0.227778\tf1_macro: 0.048865\tprec_macro: 0.840977\trec_macro: 0.097222\n",
      "===== Training Epoch 6 =====\n",
      "14/14 [==============================] - 0s 11ms/step\n",
      "TRAIN\t\tacc: 0.241611\tacc_top5: 0.409396\tf1_macro: 0.089123\tprec_macro: 0.849369\trec_macro: 0.133778\n",
      "12/12 [==============================] - 0s 11ms/step\n",
      "TEST\t\tacc: 0.155556\tacc_top5: 0.272222\tf1_macro: 0.055191\tprec_macro: 0.842063\trec_macro: 0.107778\n",
      "===== Training Epoch 7 =====\n",
      "14/14 [==============================] - 0s 11ms/step\n",
      "TRAIN\t\tacc: 0.279642\tacc_top5: 0.496644\tf1_macro: 0.124045\tprec_macro: 0.869248\trec_macro: 0.169611\n",
      "12/12 [==============================] - 0s 11ms/step\n",
      "TEST\t\tacc: 0.172222\tacc_top5: 0.327778\tf1_macro: 0.067791\tprec_macro: 0.839765\trec_macro: 0.121111\n",
      "===== Training Epoch 8 =====\n",
      "14/14 [==============================] - 0s 11ms/step\n",
      "TRAIN\t\tacc: 0.328859\tacc_top5: 0.545861\tf1_macro: 0.149466\tprec_macro: 0.848399\trec_macro: 0.200278\n",
      "12/12 [==============================] - 0s 11ms/step\n",
      "TEST\t\tacc: 0.205556\tacc_top5: 0.361111\tf1_macro: 0.086480\tprec_macro: 0.823749\trec_macro: 0.145000\n",
      "===== Training Epoch 9 =====\n",
      "14/14 [==============================] - 0s 11ms/step\n",
      "TRAIN\t\tacc: 0.380313\tacc_top5: 0.599553\tf1_macro: 0.189483\tprec_macro: 0.854859\trec_macro: 0.243889\n",
      "12/12 [==============================] - 0s 11ms/step\n",
      "TEST\t\tacc: 0.241667\tacc_top5: 0.402778\tf1_macro: 0.106971\tprec_macro: 0.833156\trec_macro: 0.174444\n",
      "===== Training Epoch 10 =====\n",
      "14/14 [==============================] - 0s 11ms/step\n",
      "TRAIN\t\tacc: 0.454139\tacc_top5: 0.646532\tf1_macro: 0.242124\tprec_macro: 0.870460\trec_macro: 0.298333\n",
      "12/12 [==============================] - 0s 11ms/step\n",
      "TEST\t\tacc: 0.288889\tacc_top5: 0.433333\tf1_macro: 0.150974\tprec_macro: 0.837323\trec_macro: 0.216111\n",
      "===== Training Epoch 11 =====\n",
      "14/14 [==============================] - 0s 11ms/step\n",
      "TRAIN\t\tacc: 0.492170\tacc_top5: 0.718121\tf1_macro: 0.281910\tprec_macro: 0.877461\trec_macro: 0.339722\n",
      "12/12 [==============================] - 0s 11ms/step\n",
      "TEST\t\tacc: 0.316667\tacc_top5: 0.486111\tf1_macro: 0.168594\tprec_macro: 0.831313\trec_macro: 0.239444\n",
      "===== Training Epoch 12 =====\n",
      "14/14 [==============================] - 0s 11ms/step\n",
      "TRAIN\t\tacc: 0.559284\tacc_top5: 0.782998\tf1_macro: 0.358556\tprec_macro: 0.885529\trec_macro: 0.413611\n",
      "12/12 [==============================] - 0s 10ms/step\n",
      "TEST\t\tacc: 0.347222\tacc_top5: 0.536111\tf1_macro: 0.206971\tprec_macro: 0.839009\trec_macro: 0.277222\n",
      "===== Training Epoch 13 =====\n",
      "14/14 [==============================] - 0s 11ms/step\n",
      "TRAIN\t\tacc: 0.615213\tacc_top5: 0.823266\tf1_macro: 0.415200\tprec_macro: 0.899500\trec_macro: 0.468333\n",
      "12/12 [==============================] - 0s 11ms/step\n",
      "TEST\t\tacc: 0.400000\tacc_top5: 0.575000\tf1_macro: 0.254900\tprec_macro: 0.846769\trec_macro: 0.328889\n",
      "===== Training Epoch 14 =====\n",
      "14/14 [==============================] - 0s 11ms/step\n",
      "TRAIN\t\tacc: 0.673378\tacc_top5: 0.870246\tf1_macro: 0.501690\tprec_macro: 0.909353\trec_macro: 0.548889\n",
      "12/12 [==============================] - 0s 10ms/step\n",
      "TEST\t\tacc: 0.425000\tacc_top5: 0.613889\tf1_macro: 0.285879\tprec_macro: 0.847247\trec_macro: 0.358889\n",
      "===== Training Epoch 15 =====\n",
      "14/14 [==============================] - 0s 11ms/step\n",
      "TRAIN\t\tacc: 0.724832\tacc_top5: 0.917226\tf1_macro: 0.566655\tprec_macro: 0.915818\trec_macro: 0.610556\n",
      "12/12 [==============================] - 0s 11ms/step\n",
      "TEST\t\tacc: 0.477778\tacc_top5: 0.641667\tf1_macro: 0.336758\tprec_macro: 0.831704\trec_macro: 0.413889\n",
      "===== Training Epoch 16 =====\n",
      "14/14 [==============================] - 0s 11ms/step\n",
      "TRAIN\t\tacc: 0.785235\tacc_top5: 0.961969\tf1_macro: 0.655811\tprec_macro: 0.930199\trec_macro: 0.693889\n",
      "12/12 [==============================] - 0s 11ms/step\n",
      "TEST\t\tacc: 0.508333\tacc_top5: 0.677778\tf1_macro: 0.375811\tprec_macro: 0.844714\trec_macro: 0.447222\n",
      "===== Training Epoch 17 =====\n",
      "14/14 [==============================] - 0s 11ms/step\n",
      "TRAIN\t\tacc: 0.838926\tacc_top5: 0.973154\tf1_macro: 0.741067\tprec_macro: 0.941669\trec_macro: 0.772222\n",
      "12/12 [==============================] - 0s 12ms/step\n",
      "TEST\t\tacc: 0.555556\tacc_top5: 0.727778\tf1_macro: 0.436791\tprec_macro: 0.857168\trec_macro: 0.502222\n",
      "===== Training Epoch 18 =====\n",
      "14/14 [==============================] - 0s 11ms/step\n",
      "TRAIN\t\tacc: 0.876957\tacc_top5: 0.982103\tf1_macro: 0.805697\tprec_macro: 0.962325\trec_macro: 0.827222\n",
      "12/12 [==============================] - 0s 11ms/step\n",
      "TEST\t\tacc: 0.577778\tacc_top5: 0.783333\tf1_macro: 0.469936\tprec_macro: 0.860899\trec_macro: 0.530556\n",
      "===== Training Epoch 19 =====\n",
      "14/14 [==============================] - 0s 11ms/step\n",
      "TRAIN\t\tacc: 0.914989\tacc_top5: 0.984340\tf1_macro: 0.861807\tprec_macro: 0.970333\trec_macro: 0.878889\n",
      "12/12 [==============================] - 0s 11ms/step\n",
      "TEST\t\tacc: 0.613889\tacc_top5: 0.772222\tf1_macro: 0.500984\tprec_macro: 0.850394\trec_macro: 0.567222\n",
      "===== Training Epoch 20 =====\n",
      "14/14 [==============================] - 0s 11ms/step\n",
      "TRAIN\t\tacc: 0.941834\tacc_top5: 0.982103\tf1_macro: 0.906041\tprec_macro: 0.980444\trec_macro: 0.917222\n",
      "12/12 [==============================] - 0s 11ms/step\n",
      "TEST\t\tacc: 0.650000\tacc_top5: 0.805556\tf1_macro: 0.551960\tprec_macro: 0.846796\trec_macro: 0.610556\n",
      "===== Training Epoch 21 =====\n",
      "14/14 [==============================] - 0s 11ms/step\n",
      "TRAIN\t\tacc: 0.948546\tacc_top5: 0.991051\tf1_macro: 0.917554\tprec_macro: 0.983056\trec_macro: 0.927222\n",
      "12/12 [==============================] - 0s 11ms/step\n",
      "TEST\t\tacc: 0.669444\tacc_top5: 0.800000\tf1_macro: 0.577976\tprec_macro: 0.871855\trec_macro: 0.637222\n",
      "===== Training Epoch 22 =====\n",
      "14/14 [==============================] - 0s 10ms/step\n",
      "TRAIN\t\tacc: 0.957494\tacc_top5: 0.993289\tf1_macro: 0.929945\tprec_macro: 0.985913\trec_macro: 0.938333\n",
      "12/12 [==============================] - 0s 11ms/step\n",
      "TEST\t\tacc: 0.688889\tacc_top5: 0.822222\tf1_macro: 0.600555\tprec_macro: 0.871714\trec_macro: 0.657222\n",
      "===== Training Epoch 23 =====\n",
      "14/14 [==============================] - 0s 11ms/step\n",
      "TRAIN\t\tacc: 0.961969\tacc_top5: 0.991051\tf1_macro: 0.938199\tprec_macro: 0.988413\trec_macro: 0.945000\n",
      "12/12 [==============================] - 0s 11ms/step\n",
      "TEST\t\tacc: 0.711111\tacc_top5: 0.838889\tf1_macro: 0.632438\tprec_macro: 0.886770\trec_macro: 0.683889\n",
      "===== Training Epoch 24 =====\n",
      "14/14 [==============================] - 0s 11ms/step\n",
      "TRAIN\t\tacc: 0.961969\tacc_top5: 0.993289\tf1_macro: 0.938199\tprec_macro: 0.988413\trec_macro: 0.945000\n",
      "12/12 [==============================] - 0s 11ms/step\n",
      "TEST\t\tacc: 0.736111\tacc_top5: 0.822222\tf1_macro: 0.667206\tprec_macro: 0.885556\trec_macro: 0.712222\n",
      "===== Training Epoch 25 =====\n",
      "14/14 [==============================] - 0s 11ms/step\n",
      "TRAIN\t\tacc: 0.966443\tacc_top5: 0.993289\tf1_macro: 0.949889\tprec_macro: 0.992222\trec_macro: 0.953889\n",
      "12/12 [==============================] - 0s 11ms/step\n",
      "TEST\t\tacc: 0.747222\tacc_top5: 0.844444\tf1_macro: 0.682222\tprec_macro: 0.890066\trec_macro: 0.725556\n",
      "===== Training Epoch 26 =====\n",
      "14/14 [==============================] - 0s 11ms/step\n",
      "TRAIN\t\tacc: 0.970917\tacc_top5: 0.997763\tf1_macro: 0.957889\tprec_macro: 0.994444\trec_macro: 0.960556\n",
      "12/12 [==============================] - 0s 11ms/step\n",
      "TEST\t\tacc: 0.752778\tacc_top5: 0.847222\tf1_macro: 0.686923\tprec_macro: 0.889833\trec_macro: 0.732222\n",
      "===== Training Epoch 27 =====\n",
      "14/14 [==============================] - 0s 11ms/step\n",
      "TRAIN\t\tacc: 0.973154\tacc_top5: 0.993289\tf1_macro: 0.961889\tprec_macro: 0.995556\trec_macro: 0.963889\n",
      "12/12 [==============================] - 0s 11ms/step\n",
      "TEST\t\tacc: 0.750000\tacc_top5: 0.852778\tf1_macro: 0.679182\tprec_macro: 0.889119\trec_macro: 0.728889\n",
      "===== Training Epoch 28 =====\n",
      "14/14 [==============================] - 0s 12ms/step\n",
      "TRAIN\t\tacc: 0.977629\tacc_top5: 0.995526\tf1_macro: 0.969310\tprec_macro: 0.996746\trec_macro: 0.970556\n",
      "12/12 [==============================] - 0s 11ms/step\n",
      "TEST\t\tacc: 0.761111\tacc_top5: 0.858333\tf1_macro: 0.692526\tprec_macro: 0.878492\trec_macro: 0.740556\n",
      "===== Training Epoch 29 =====\n",
      "14/14 [==============================] - 0s 10ms/step\n",
      "TRAIN\t\tacc: 0.982103\tacc_top5: 0.995526\tf1_macro: 0.974074\tprec_macro: 0.997949\trec_macro: 0.975000\n",
      "12/12 [==============================] - 0s 11ms/step\n",
      "TEST\t\tacc: 0.755556\tacc_top5: 0.858333\tf1_macro: 0.690724\tprec_macro: 0.886437\trec_macro: 0.735556\n",
      "===== Training Epoch 30 =====\n",
      "14/14 [==============================] - 0s 10ms/step\n",
      "TRAIN\t\tacc: 0.982103\tacc_top5: 0.993289\tf1_macro: 0.975739\tprec_macro: 0.996389\trec_macro: 0.977222\n",
      "12/12 [==============================] - 0s 11ms/step\n",
      "TEST\t\tacc: 0.763889\tacc_top5: 0.858333\tf1_macro: 0.698237\tprec_macro: 0.889103\trec_macro: 0.743889\n",
      "===== Training Epoch 31 =====\n",
      "14/14 [==============================] - 0s 11ms/step\n",
      "TRAIN\t\tacc: 0.979866\tacc_top5: 0.997763\tf1_macro: 0.970074\tprec_macro: 0.996838\trec_macro: 0.971667\n",
      "12/12 [==============================] - 0s 11ms/step\n",
      "TEST\t\tacc: 0.777778\tacc_top5: 0.850000\tf1_macro: 0.718399\tprec_macro: 0.894937\trec_macro: 0.760556\n",
      "===== Training Epoch 32 =====\n",
      "14/14 [==============================] - 0s 12ms/step\n",
      "TRAIN\t\tacc: 0.977629\tacc_top5: 0.997763\tf1_macro: 0.969889\tprec_macro: 0.997778\trec_macro: 0.970556\n",
      "12/12 [==============================] - 0s 11ms/step\n",
      "TEST\t\tacc: 0.783333\tacc_top5: 0.852778\tf1_macro: 0.725232\tprec_macro: 0.896270\trec_macro: 0.767222\n",
      "===== Training Epoch 33 =====\n",
      "14/14 [==============================] - 0s 10ms/step\n",
      "TRAIN\t\tacc: 0.979866\tacc_top5: 0.997763\tf1_macro: 0.970643\tprec_macro: 0.997857\trec_macro: 0.971667\n",
      "12/12 [==============================] - 0s 11ms/step\n",
      "TEST\t\tacc: 0.783333\tacc_top5: 0.858333\tf1_macro: 0.723460\tprec_macro: 0.899500\trec_macro: 0.765556\n",
      "===== Training Epoch 34 =====\n",
      "14/14 [==============================] - 0s 11ms/step\n",
      "TRAIN\t\tacc: 0.986577\tacc_top5: 0.997763\tf1_macro: 0.980972\tprec_macro: 0.998182\trec_macro: 0.981667\n",
      "12/12 [==============================] - 0s 10ms/step\n",
      "TEST\t\tacc: 0.780556\tacc_top5: 0.861111\tf1_macro: 0.723126\tprec_macro: 0.893667\trec_macro: 0.763889\n",
      "===== Training Epoch 35 =====\n",
      "14/14 [==============================] - 0s 11ms/step\n",
      "TRAIN\t\tacc: 0.982103\tacc_top5: 0.995526\tf1_macro: 0.974603\tprec_macro: 0.994907\trec_macro: 0.977222\n",
      "12/12 [==============================] - 0s 11ms/step\n",
      "TEST\t\tacc: 0.780556\tacc_top5: 0.855556\tf1_macro: 0.721788\tprec_macro: 0.895397\trec_macro: 0.763889\n",
      "===== Training Epoch 36 =====\n",
      "14/14 [==============================] - 0s 11ms/step\n",
      "TRAIN\t\tacc: 0.988814\tacc_top5: 0.997763\tf1_macro: 0.979586\tprec_macro: 0.994444\trec_macro: 0.983333\n",
      "12/12 [==============================] - 0s 11ms/step\n",
      "TEST\t\tacc: 0.780556\tacc_top5: 0.861111\tf1_macro: 0.730080\tprec_macro: 0.894905\trec_macro: 0.766111\n",
      "===== Training Epoch 37 =====\n",
      "14/14 [==============================] - 0s 11ms/step\n",
      "TRAIN\t\tacc: 0.986577\tacc_top5: 1.000000\tf1_macro: 0.978750\tprec_macro: 0.998182\trec_macro: 0.980000\n",
      "12/12 [==============================] - 0s 11ms/step\n",
      "TEST\t\tacc: 0.797222\tacc_top5: 0.866667\tf1_macro: 0.747539\tprec_macro: 0.911881\trec_macro: 0.782222\n",
      "===== Training Epoch 38 =====\n",
      "14/14 [==============================] - 0s 10ms/step\n",
      "TRAIN\t\tacc: 0.982103\tacc_top5: 1.000000\tf1_macro: 0.974074\tprec_macro: 0.997949\trec_macro: 0.975000\n",
      "12/12 [==============================] - 0s 11ms/step\n",
      "TEST\t\tacc: 0.786111\tacc_top5: 0.855556\tf1_macro: 0.727793\tprec_macro: 0.907881\trec_macro: 0.768889\n",
      "===== Training Epoch 39 =====\n",
      "14/14 [==============================] - 0s 11ms/step\n",
      "TRAIN\t\tacc: 0.984340\tacc_top5: 0.997763\tf1_macro: 0.977516\tprec_macro: 0.998056\trec_macro: 0.978333\n",
      "12/12 [==============================] - 0s 11ms/step\n",
      "TEST\t\tacc: 0.788889\tacc_top5: 0.858333\tf1_macro: 0.731668\tprec_macro: 0.904722\trec_macro: 0.773889\n",
      "===== Training Epoch 40 =====\n",
      "14/14 [==============================] - 0s 11ms/step\n",
      "TRAIN\t\tacc: 0.986577\tacc_top5: 1.000000\tf1_macro: 0.980972\tprec_macro: 0.998182\trec_macro: 0.981667\n",
      "12/12 [==============================] - 0s 11ms/step\n",
      "TEST\t\tacc: 0.786111\tacc_top5: 0.858333\tf1_macro: 0.726335\tprec_macro: 0.895556\trec_macro: 0.768889\n",
      "===== Training Epoch 41 =====\n",
      "14/14 [==============================] - 0s 11ms/step\n",
      "TRAIN\t\tacc: 0.984340\tacc_top5: 1.000000\tf1_macro: 0.977516\tprec_macro: 0.998056\trec_macro: 0.978333\n",
      "12/12 [==============================] - 0s 11ms/step\n",
      "TEST\t\tacc: 0.797222\tacc_top5: 0.869444\tf1_macro: 0.737661\tprec_macro: 0.902881\trec_macro: 0.782222\n",
      "===== Training Epoch 42 =====\n",
      "14/14 [==============================] - 0s 11ms/step\n",
      "TRAIN\t\tacc: 0.982103\tacc_top5: 1.000000\tf1_macro: 0.974074\tprec_macro: 0.997949\trec_macro: 0.975000\n",
      "12/12 [==============================] - 0s 11ms/step\n",
      "TEST\t\tacc: 0.783333\tacc_top5: 0.861111\tf1_macro: 0.722899\tprec_macro: 0.896048\trec_macro: 0.767222\n",
      "===== Training Epoch 43 =====\n",
      "14/14 [==============================] - 0s 12ms/step\n",
      "TRAIN\t\tacc: 0.986577\tacc_top5: 1.000000\tf1_macro: 0.980972\tprec_macro: 0.998182\trec_macro: 0.981667\n",
      "12/12 [==============================] - 0s 10ms/step\n",
      "TEST\t\tacc: 0.794444\tacc_top5: 0.852778\tf1_macro: 0.737034\tprec_macro: 0.903770\trec_macro: 0.780556\n",
      "===== Training Epoch 44 =====\n",
      "14/14 [==============================] - 0s 11ms/step\n",
      "TRAIN\t\tacc: 0.995526\tacc_top5: 1.000000\tf1_macro: 0.991919\tprec_macro: 0.997778\trec_macro: 0.993333\n",
      "12/12 [==============================] - 0s 11ms/step\n",
      "TEST\t\tacc: 0.805556\tacc_top5: 0.866667\tf1_macro: 0.750052\tprec_macro: 0.911325\trec_macro: 0.790556\n",
      "===== Training Epoch 45 =====\n",
      "14/14 [==============================] - 0s 11ms/step\n",
      "TRAIN\t\tacc: 0.995526\tacc_top5: 1.000000\tf1_macro: 0.991919\tprec_macro: 0.997778\trec_macro: 0.993333\n",
      "12/12 [==============================] - 0s 11ms/step\n",
      "TEST\t\tacc: 0.794444\tacc_top5: 0.869444\tf1_macro: 0.739817\tprec_macro: 0.901796\trec_macro: 0.781111\n",
      "===== Training Epoch 46 =====\n",
      "14/14 [==============================] - 0s 11ms/step\n",
      "TRAIN\t\tacc: 1.000000\tacc_top5: 1.000000\tf1_macro: 1.000000\tprec_macro: 1.000000\trec_macro: 1.000000\n",
      "12/12 [==============================] - 0s 11ms/step\n",
      "TEST\t\tacc: 0.794444\tacc_top5: 0.866667\tf1_macro: 0.739631\tprec_macro: 0.902936\trec_macro: 0.778889\n",
      "===== Training Epoch 47 =====\n",
      "14/14 [==============================] - 0s 11ms/step\n",
      "TRAIN\t\tacc: 0.991051\tacc_top5: 1.000000\tf1_macro: 0.985714\tprec_macro: 0.998519\trec_macro: 0.986667\n",
      "12/12 [==============================] - 0s 11ms/step\n",
      "TEST\t\tacc: 0.794444\tacc_top5: 0.861111\tf1_macro: 0.739203\tprec_macro: 0.910222\trec_macro: 0.778889\n",
      "===== Training Epoch 48 =====\n",
      "14/14 [==============================] - 0s 11ms/step\n",
      "TRAIN\t\tacc: 0.993289\tacc_top5: 1.000000\tf1_macro: 0.989231\tprec_macro: 0.998750\trec_macro: 0.990000\n",
      "12/12 [==============================] - 0s 11ms/step\n",
      "TEST\t\tacc: 0.794444\tacc_top5: 0.858333\tf1_macro: 0.739557\tprec_macro: 0.908992\trec_macro: 0.778889\n",
      "===== Training Epoch 49 =====\n",
      "14/14 [==============================] - 0s 11ms/step\n",
      "TRAIN\t\tacc: 0.995526\tacc_top5: 1.000000\tf1_macro: 0.992778\tprec_macro: 0.999048\trec_macro: 0.993333\n",
      "12/12 [==============================] - 0s 11ms/step\n",
      "TEST\t\tacc: 0.800000\tacc_top5: 0.869444\tf1_macro: 0.747240\tprec_macro: 0.900714\trec_macro: 0.785556\n",
      "===== Training Epoch 50 =====\n",
      "14/14 [==============================] - 0s 11ms/step\n",
      "TRAIN\t\tacc: 0.997763\tacc_top5: 1.000000\tf1_macro: 0.996364\tprec_macro: 0.999444\trec_macro: 0.996667\n",
      "12/12 [==============================] - 0s 11ms/step\n",
      "TEST\t\tacc: 0.794444\tacc_top5: 0.861111\tf1_macro: 0.740367\tprec_macro: 0.898159\trec_macro: 0.778889\n",
      "===== Training Epoch 51 =====\n",
      "14/14 [==============================] - 0s 11ms/step\n",
      "TRAIN\t\tacc: 0.997763\tacc_top5: 1.000000\tf1_macro: 0.995556\tprec_macro: 0.998333\trec_macro: 0.996667\n",
      "12/12 [==============================] - 0s 11ms/step\n",
      "TEST\t\tacc: 0.791667\tacc_top5: 0.858333\tf1_macro: 0.738087\tprec_macro: 0.904714\trec_macro: 0.775556\n",
      "===== Training Epoch 52 =====\n",
      "14/14 [==============================] - 0s 11ms/step\n",
      "TRAIN\t\tacc: 1.000000\tacc_top5: 1.000000\tf1_macro: 1.000000\tprec_macro: 1.000000\trec_macro: 1.000000\n",
      "12/12 [==============================] - 0s 11ms/step\n",
      "TEST\t\tacc: 0.791667\tacc_top5: 0.861111\tf1_macro: 0.739466\tprec_macro: 0.899698\trec_macro: 0.779444\n",
      "===== Training Epoch 53 =====\n",
      "14/14 [==============================] - 0s 10ms/step\n",
      "TRAIN\t\tacc: 1.000000\tacc_top5: 1.000000\tf1_macro: 1.000000\tprec_macro: 1.000000\trec_macro: 1.000000\n",
      "12/12 [==============================] - 0s 11ms/step\n",
      "TEST\t\tacc: 0.797222\tacc_top5: 0.866667\tf1_macro: 0.742413\tprec_macro: 0.897828\trec_macro: 0.782778\n",
      "===== Training Epoch 54 =====\n",
      "14/14 [==============================] - 0s 11ms/step\n",
      "TRAIN\t\tacc: 1.000000\tacc_top5: 1.000000\tf1_macro: 1.000000\tprec_macro: 1.000000\trec_macro: 1.000000\n",
      "12/12 [==============================] - 0s 11ms/step\n",
      "TEST\t\tacc: 0.800000\tacc_top5: 0.872222\tf1_macro: 0.745476\tprec_macro: 0.905500\trec_macro: 0.785556\n",
      "===== Training Epoch 55 =====\n",
      "14/14 [==============================] - 0s 11ms/step\n",
      "TRAIN\t\tacc: 1.000000\tacc_top5: 1.000000\tf1_macro: 1.000000\tprec_macro: 1.000000\trec_macro: 1.000000\n",
      "12/12 [==============================] - 0s 11ms/step\n",
      "TEST\t\tacc: 0.805556\tacc_top5: 0.872222\tf1_macro: 0.752869\tprec_macro: 0.904825\trec_macro: 0.792222\n",
      "===== Training Epoch 56 =====\n",
      "14/14 [==============================] - 0s 11ms/step\n",
      "TRAIN\t\tacc: 1.000000\tacc_top5: 1.000000\tf1_macro: 1.000000\tprec_macro: 1.000000\trec_macro: 1.000000\n",
      "12/12 [==============================] - 0s 11ms/step\n",
      "TEST\t\tacc: 0.794444\tacc_top5: 0.872222\tf1_macro: 0.736492\tprec_macro: 0.891889\trec_macro: 0.778889\n",
      "===== Training Epoch 57 =====\n",
      "14/14 [==============================] - 0s 11ms/step\n",
      "TRAIN\t\tacc: 1.000000\tacc_top5: 1.000000\tf1_macro: 1.000000\tprec_macro: 1.000000\trec_macro: 1.000000\n",
      "12/12 [==============================] - 0s 11ms/step\n",
      "TEST\t\tacc: 0.800000\tacc_top5: 0.877778\tf1_macro: 0.741684\tprec_macro: 0.903492\trec_macro: 0.783889\n",
      "===== Training Epoch 58 =====\n",
      "14/14 [==============================] - 0s 11ms/step\n",
      "TRAIN\t\tacc: 1.000000\tacc_top5: 1.000000\tf1_macro: 1.000000\tprec_macro: 1.000000\trec_macro: 1.000000\n",
      "12/12 [==============================] - 0s 12ms/step\n",
      "TEST\t\tacc: 0.797222\tacc_top5: 0.877778\tf1_macro: 0.740018\tprec_macro: 0.895714\trec_macro: 0.782222\n",
      "===== Training Epoch 59 =====\n",
      "14/14 [==============================] - 0s 12ms/step\n",
      "TRAIN\t\tacc: 1.000000\tacc_top5: 1.000000\tf1_macro: 1.000000\tprec_macro: 1.000000\trec_macro: 1.000000\n",
      "12/12 [==============================] - 0s 11ms/step\n",
      "TEST\t\tacc: 0.794444\tacc_top5: 0.872222\tf1_macro: 0.739869\tprec_macro: 0.892380\trec_macro: 0.778889\n",
      "===== Training Epoch 60 =====\n",
      "14/14 [==============================] - 0s 11ms/step\n",
      "TRAIN\t\tacc: 1.000000\tacc_top5: 1.000000\tf1_macro: 1.000000\tprec_macro: 1.000000\trec_macro: 1.000000\n",
      "12/12 [==============================] - 0s 11ms/step\n",
      "TEST\t\tacc: 0.802778\tacc_top5: 0.875000\tf1_macro: 0.745119\tprec_macro: 0.896520\trec_macro: 0.787222\n",
      "===== Training Epoch 61 =====\n",
      "14/14 [==============================] - 0s 11ms/step\n",
      "TRAIN\t\tacc: 1.000000\tacc_top5: 1.000000\tf1_macro: 1.000000\tprec_macro: 1.000000\trec_macro: 1.000000\n",
      "12/12 [==============================] - 0s 11ms/step\n",
      "TEST\t\tacc: 0.805556\tacc_top5: 0.863889\tf1_macro: 0.748282\tprec_macro: 0.906047\trec_macro: 0.790556\n",
      "===== Training Epoch 62 =====\n",
      "14/14 [==============================] - 0s 11ms/step\n",
      "TRAIN\t\tacc: 1.000000\tacc_top5: 1.000000\tf1_macro: 1.000000\tprec_macro: 1.000000\trec_macro: 1.000000\n",
      "12/12 [==============================] - 0s 12ms/step\n",
      "TEST\t\tacc: 0.808333\tacc_top5: 0.869444\tf1_macro: 0.752254\tprec_macro: 0.907222\trec_macro: 0.793889\n",
      "===== Training Epoch 63 =====\n",
      "14/14 [==============================] - 0s 12ms/step\n",
      "TRAIN\t\tacc: 1.000000\tacc_top5: 1.000000\tf1_macro: 1.000000\tprec_macro: 1.000000\trec_macro: 1.000000\n",
      "12/12 [==============================] - 0s 12ms/step\n",
      "TEST\t\tacc: 0.800000\tacc_top5: 0.866667\tf1_macro: 0.743542\tprec_macro: 0.908770\trec_macro: 0.785556\n",
      "===== Training Epoch 64 =====\n",
      "14/14 [==============================] - 0s 11ms/step\n",
      "TRAIN\t\tacc: 1.000000\tacc_top5: 1.000000\tf1_macro: 1.000000\tprec_macro: 1.000000\trec_macro: 1.000000\n",
      "12/12 [==============================] - 0s 10ms/step\n",
      "TEST\t\tacc: 0.797222\tacc_top5: 0.869444\tf1_macro: 0.742946\tprec_macro: 0.901389\trec_macro: 0.784444\n",
      "===== Training Epoch 65 =====\n",
      "14/14 [==============================] - 0s 11ms/step\n",
      "TRAIN\t\tacc: 1.000000\tacc_top5: 1.000000\tf1_macro: 1.000000\tprec_macro: 1.000000\trec_macro: 1.000000\n",
      "12/12 [==============================] - 0s 11ms/step\n",
      "TEST\t\tacc: 0.800000\tacc_top5: 0.872222\tf1_macro: 0.744921\tprec_macro: 0.905581\trec_macro: 0.787778\n",
      "===== Training Epoch 66 =====\n",
      "14/14 [==============================] - 0s 11ms/step\n",
      "TRAIN\t\tacc: 1.000000\tacc_top5: 1.000000\tf1_macro: 1.000000\tprec_macro: 1.000000\trec_macro: 1.000000\n",
      "12/12 [==============================] - 0s 11ms/step\n",
      "TEST\t\tacc: 0.802778\tacc_top5: 0.866667\tf1_macro: 0.750402\tprec_macro: 0.894167\trec_macro: 0.791111\n",
      "===== Training Epoch 67 =====\n",
      "14/14 [==============================] - 0s 11ms/step\n",
      "TRAIN\t\tacc: 1.000000\tacc_top5: 1.000000\tf1_macro: 1.000000\tprec_macro: 1.000000\trec_macro: 1.000000\n",
      "12/12 [==============================] - 0s 11ms/step\n",
      "TEST\t\tacc: 0.800000\tacc_top5: 0.875000\tf1_macro: 0.739841\tprec_macro: 0.898056\trec_macro: 0.785556\n",
      "===== Training Epoch 68 =====\n",
      "14/14 [==============================] - 0s 12ms/step\n",
      "TRAIN\t\tacc: 1.000000\tacc_top5: 1.000000\tf1_macro: 1.000000\tprec_macro: 1.000000\trec_macro: 1.000000\n",
      "12/12 [==============================] - 0s 10ms/step\n",
      "TEST\t\tacc: 0.797222\tacc_top5: 0.875000\tf1_macro: 0.735867\tprec_macro: 0.898444\trec_macro: 0.784444\n",
      "===== Training Epoch 69 =====\n",
      "14/14 [==============================] - 0s 11ms/step\n",
      "TRAIN\t\tacc: 1.000000\tacc_top5: 1.000000\tf1_macro: 1.000000\tprec_macro: 1.000000\trec_macro: 1.000000\n",
      "12/12 [==============================] - 0s 11ms/step\n",
      "TEST\t\tacc: 0.797222\tacc_top5: 0.869444\tf1_macro: 0.737024\tprec_macro: 0.891032\trec_macro: 0.784444\n",
      "===== Training Epoch 70 =====\n",
      "14/14 [==============================] - 0s 11ms/step\n",
      "TRAIN\t\tacc: 1.000000\tacc_top5: 1.000000\tf1_macro: 1.000000\tprec_macro: 1.000000\trec_macro: 1.000000\n",
      "12/12 [==============================] - 0s 11ms/step\n",
      "TEST\t\tacc: 0.800000\tacc_top5: 0.869444\tf1_macro: 0.743381\tprec_macro: 0.893500\trec_macro: 0.787778\n",
      "===== Training Epoch 71 =====\n",
      "14/14 [==============================] - 0s 11ms/step\n",
      "TRAIN\t\tacc: 1.000000\tacc_top5: 1.000000\tf1_macro: 1.000000\tprec_macro: 1.000000\trec_macro: 1.000000\n",
      "12/12 [==============================] - 0s 11ms/step\n",
      "TEST\t\tacc: 0.805556\tacc_top5: 0.866667\tf1_macro: 0.748365\tprec_macro: 0.896111\trec_macro: 0.794444\n",
      "===== Training Epoch 72 =====\n",
      "14/14 [==============================] - 0s 11ms/step\n",
      "TRAIN\t\tacc: 1.000000\tacc_top5: 1.000000\tf1_macro: 1.000000\tprec_macro: 1.000000\trec_macro: 1.000000\n",
      "12/12 [==============================] - 0s 11ms/step\n",
      "TEST\t\tacc: 0.800000\tacc_top5: 0.866667\tf1_macro: 0.743381\tprec_macro: 0.898675\trec_macro: 0.787778\n",
      "===== Training Epoch 73 =====\n",
      "14/14 [==============================] - 0s 11ms/step\n",
      "TRAIN\t\tacc: 1.000000\tacc_top5: 1.000000\tf1_macro: 1.000000\tprec_macro: 1.000000\trec_macro: 1.000000\n",
      "12/12 [==============================] - 0s 10ms/step\n",
      "TEST\t\tacc: 0.797222\tacc_top5: 0.861111\tf1_macro: 0.739905\tprec_macro: 0.902162\trec_macro: 0.784444\n",
      "===== Training Epoch 74 =====\n",
      "14/14 [==============================] - 0s 11ms/step\n",
      "TRAIN\t\tacc: 1.000000\tacc_top5: 1.000000\tf1_macro: 1.000000\tprec_macro: 1.000000\trec_macro: 1.000000\n",
      "12/12 [==============================] - 0s 11ms/step\n",
      "TEST\t\tacc: 0.800000\tacc_top5: 0.858333\tf1_macro: 0.744714\tprec_macro: 0.902722\trec_macro: 0.785556\n",
      "===== Training Epoch 75 =====\n",
      "14/14 [==============================] - 0s 11ms/step\n",
      "TRAIN\t\tacc: 1.000000\tacc_top5: 1.000000\tf1_macro: 1.000000\tprec_macro: 1.000000\trec_macro: 1.000000\n",
      "12/12 [==============================] - 0s 11ms/step\n",
      "TEST\t\tacc: 0.802778\tacc_top5: 0.863889\tf1_macro: 0.746750\tprec_macro: 0.900841\trec_macro: 0.788889\n",
      "===== Training Epoch 76 =====\n",
      "14/14 [==============================] - 0s 11ms/step\n",
      "TRAIN\t\tacc: 1.000000\tacc_top5: 1.000000\tf1_macro: 1.000000\tprec_macro: 1.000000\trec_macro: 1.000000\n",
      "12/12 [==============================] - 0s 11ms/step\n",
      "TEST\t\tacc: 0.800000\tacc_top5: 0.866667\tf1_macro: 0.745989\tprec_macro: 0.905860\trec_macro: 0.787778\n",
      "===== Training Epoch 77 =====\n",
      "14/14 [==============================] - 0s 11ms/step\n",
      "TRAIN\t\tacc: 1.000000\tacc_top5: 1.000000\tf1_macro: 1.000000\tprec_macro: 1.000000\trec_macro: 1.000000\n",
      "12/12 [==============================] - 0s 11ms/step\n",
      "TEST\t\tacc: 0.802778\tacc_top5: 0.863889\tf1_macro: 0.749905\tprec_macro: 0.900222\trec_macro: 0.789444\n",
      "===== Training Epoch 78 =====\n",
      "14/14 [==============================] - 0s 11ms/step\n",
      "TRAIN\t\tacc: 1.000000\tacc_top5: 1.000000\tf1_macro: 1.000000\tprec_macro: 1.000000\trec_macro: 1.000000\n",
      "12/12 [==============================] - 0s 11ms/step\n",
      "TEST\t\tacc: 0.800000\tacc_top5: 0.872222\tf1_macro: 0.745341\tprec_macro: 0.898476\trec_macro: 0.786111\n",
      "===== Training Epoch 79 =====\n",
      "14/14 [==============================] - 0s 11ms/step\n",
      "TRAIN\t\tacc: 1.000000\tacc_top5: 1.000000\tf1_macro: 1.000000\tprec_macro: 1.000000\trec_macro: 1.000000\n",
      "12/12 [==============================] - 0s 11ms/step\n",
      "TEST\t\tacc: 0.805556\tacc_top5: 0.872222\tf1_macro: 0.748825\tprec_macro: 0.904630\trec_macro: 0.792778\n",
      "===== Training Epoch 80 =====\n",
      "14/14 [==============================] - 0s 11ms/step\n",
      "TRAIN\t\tacc: 1.000000\tacc_top5: 1.000000\tf1_macro: 1.000000\tprec_macro: 1.000000\trec_macro: 1.000000\n",
      "12/12 [==============================] - 0s 11ms/step\n",
      "TEST\t\tacc: 0.805556\tacc_top5: 0.877778\tf1_macro: 0.750276\tprec_macro: 0.899444\trec_macro: 0.794444\n",
      "===== Training Epoch 81 =====\n",
      "14/14 [==============================] - 0s 11ms/step\n",
      "TRAIN\t\tacc: 1.000000\tacc_top5: 1.000000\tf1_macro: 1.000000\tprec_macro: 1.000000\trec_macro: 1.000000\n",
      "12/12 [==============================] - 0s 11ms/step\n",
      "TEST\t\tacc: 0.805556\tacc_top5: 0.880556\tf1_macro: 0.751333\tprec_macro: 0.896000\trec_macro: 0.794444\n",
      "===== Training Epoch 82 =====\n",
      "14/14 [==============================] - 0s 11ms/step\n",
      "TRAIN\t\tacc: 1.000000\tacc_top5: 1.000000\tf1_macro: 1.000000\tprec_macro: 1.000000\trec_macro: 1.000000\n",
      "12/12 [==============================] - 0s 11ms/step\n",
      "TEST\t\tacc: 0.800000\tacc_top5: 0.883333\tf1_macro: 0.741159\tprec_macro: 0.897563\trec_macro: 0.787778\n",
      "===== Training Epoch 83 =====\n",
      "14/14 [==============================] - 0s 11ms/step\n",
      "TRAIN\t\tacc: 1.000000\tacc_top5: 1.000000\tf1_macro: 1.000000\tprec_macro: 1.000000\trec_macro: 1.000000\n",
      "12/12 [==============================] - 0s 11ms/step\n",
      "TEST\t\tacc: 0.802778\tacc_top5: 0.877778\tf1_macro: 0.748783\tprec_macro: 0.900222\trec_macro: 0.791111\n",
      "===== Training Epoch 84 =====\n",
      "14/14 [==============================] - 0s 11ms/step\n",
      "TRAIN\t\tacc: 1.000000\tacc_top5: 1.000000\tf1_macro: 1.000000\tprec_macro: 1.000000\trec_macro: 1.000000\n",
      "12/12 [==============================] - 0s 11ms/step\n",
      "TEST\t\tacc: 0.800000\tacc_top5: 0.869444\tf1_macro: 0.743841\tprec_macro: 0.891889\trec_macro: 0.787778\n",
      "===== Training Epoch 85 =====\n",
      "14/14 [==============================] - 0s 12ms/step\n",
      "TRAIN\t\tacc: 1.000000\tacc_top5: 1.000000\tf1_macro: 1.000000\tprec_macro: 1.000000\trec_macro: 1.000000\n",
      "12/12 [==============================] - 0s 11ms/step\n",
      "TEST\t\tacc: 0.800000\tacc_top5: 0.875000\tf1_macro: 0.743794\tprec_macro: 0.895222\trec_macro: 0.787778\n",
      "===== Training Epoch 86 =====\n",
      "14/14 [==============================] - 0s 11ms/step\n",
      "TRAIN\t\tacc: 1.000000\tacc_top5: 1.000000\tf1_macro: 1.000000\tprec_macro: 1.000000\trec_macro: 1.000000\n",
      "12/12 [==============================] - 0s 11ms/step\n",
      "TEST\t\tacc: 0.802778\tacc_top5: 0.863889\tf1_macro: 0.747942\tprec_macro: 0.896667\trec_macro: 0.791111\n",
      "===== Training Epoch 87 =====\n",
      "14/14 [==============================] - 0s 11ms/step\n",
      "TRAIN\t\tacc: 1.000000\tacc_top5: 1.000000\tf1_macro: 1.000000\tprec_macro: 1.000000\trec_macro: 1.000000\n",
      "12/12 [==============================] - 0s 12ms/step\n",
      "TEST\t\tacc: 0.808333\tacc_top5: 0.869444\tf1_macro: 0.754491\tprec_macro: 0.903778\trec_macro: 0.795556\n",
      "===== Training Epoch 88 =====\n",
      "14/14 [==============================] - 0s 12ms/step\n",
      "TRAIN\t\tacc: 1.000000\tacc_top5: 1.000000\tf1_macro: 1.000000\tprec_macro: 1.000000\trec_macro: 1.000000\n",
      "12/12 [==============================] - 0s 12ms/step\n",
      "TEST\t\tacc: 0.802778\tacc_top5: 0.877778\tf1_macro: 0.749942\tprec_macro: 0.900833\trec_macro: 0.791111\n",
      "===== Training Epoch 89 =====\n",
      "14/14 [==============================] - 0s 11ms/step\n",
      "TRAIN\t\tacc: 1.000000\tacc_top5: 1.000000\tf1_macro: 1.000000\tprec_macro: 1.000000\trec_macro: 1.000000\n",
      "12/12 [==============================] - 0s 11ms/step\n",
      "TEST\t\tacc: 0.802778\tacc_top5: 0.872222\tf1_macro: 0.744063\tprec_macro: 0.895000\trec_macro: 0.791111\n",
      "===== Training Epoch 90 =====\n",
      "14/14 [==============================] - 0s 11ms/step\n",
      "TRAIN\t\tacc: 1.000000\tacc_top5: 1.000000\tf1_macro: 1.000000\tprec_macro: 1.000000\trec_macro: 1.000000\n",
      "12/12 [==============================] - 0s 11ms/step\n",
      "TEST\t\tacc: 0.800000\tacc_top5: 0.877778\tf1_macro: 0.742230\tprec_macro: 0.893254\trec_macro: 0.787778\n",
      "===== Training Epoch 91 =====\n",
      "14/14 [==============================] - 0s 11ms/step\n",
      "TRAIN\t\tacc: 1.000000\tacc_top5: 1.000000\tf1_macro: 1.000000\tprec_macro: 1.000000\trec_macro: 1.000000\n",
      "12/12 [==============================] - 0s 11ms/step\n",
      "TEST\t\tacc: 0.805556\tacc_top5: 0.883333\tf1_macro: 0.748460\tprec_macro: 0.896333\trec_macro: 0.792778\n",
      "===== Training Epoch 92 =====\n",
      "14/14 [==============================] - 0s 11ms/step\n",
      "TRAIN\t\tacc: 1.000000\tacc_top5: 1.000000\tf1_macro: 1.000000\tprec_macro: 1.000000\trec_macro: 1.000000\n",
      "12/12 [==============================] - 0s 12ms/step\n",
      "TEST\t\tacc: 0.808333\tacc_top5: 0.877778\tf1_macro: 0.751730\tprec_macro: 0.899074\trec_macro: 0.796111\n",
      "12/12 [==============================] - 0s 11ms/step\n",
      "Processing time: 84126.587 milliseconds. Done.\n",
      "------------------------------------------------------------------------------------------------\n"
     ]
    }
   ],
   "source": [
    "result = MARC(train, test)"
   ]
  },
  {
   "cell_type": "code",
   "execution_count": 16,
   "metadata": {},
   "outputs": [
    {
     "data": {
      "text/html": [
       "<div>\n",
       "<style scoped>\n",
       "    .dataframe tbody tr th:only-of-type {\n",
       "        vertical-align: middle;\n",
       "    }\n",
       "\n",
       "    .dataframe tbody tr th {\n",
       "        vertical-align: top;\n",
       "    }\n",
       "\n",
       "    .dataframe thead th {\n",
       "        text-align: right;\n",
       "    }\n",
       "</style>\n",
       "<table border=\"1\" class=\"dataframe\">\n",
       "  <thead>\n",
       "    <tr style=\"text-align: right;\">\n",
       "      <th></th>\n",
       "      <th>val_loss</th>\n",
       "      <th>val_acc</th>\n",
       "      <th>val_top_k_categorical_accuracy</th>\n",
       "    </tr>\n",
       "  </thead>\n",
       "  <tbody>\n",
       "    <tr>\n",
       "      <th>91</th>\n",
       "      <td>1.096916</td>\n",
       "      <td>0.808333</td>\n",
       "      <td>0.877778</td>\n",
       "    </tr>\n",
       "  </tbody>\n",
       "</table>\n",
       "</div>"
      ],
      "text/plain": [
       "    val_loss   val_acc  val_top_k_categorical_accuracy\n",
       "91  1.096916  0.808333                        0.877778"
      ]
     },
     "execution_count": 16,
     "metadata": {},
     "output_type": "execute_result"
    }
   ],
   "source": [
    "result[['val_loss', 'val_acc', 'val_top_k_categorical_accuracy']].tail(1)"
   ]
  },
  {
   "cell_type": "markdown",
   "metadata": {
    "tags": []
   },
   "source": [
    "#### 2.1.2. POI-Sequence (extention of POI-Frequency)\n",
    "\n",
    "TODO"
   ]
  },
  {
   "cell_type": "code",
   "execution_count": 17,
   "metadata": {
    "scrolled": true,
    "tags": []
   },
   "outputs": [
    {
     "name": "stdout",
     "output_type": "stream",
     "text": [
      "[POIS:] Starting feature extractor ... \n",
      "Dataset: specific, Feature: poi, Sequence: 1\n",
      "Starting NPOI...\n",
      "[POIS:] Processing time: 288.572 milliseconds. Done.\n",
      "------------------------------------------------------------------------------------------------\n",
      "[POI-S:] Building Neural Network\n",
      "WARNING: File './POIFREQ-metrics.csv' not found!\n",
      "keep_prob = 0.5\n",
      "HIDDEN_UNITS = 100\n",
      "LEARNING_RATE = 0.001\n",
      "EARLY_STOPPING_PATIENCE = 30\n",
      "BASELINE_METRIC = acc\n",
      "BASELINE_VALUE = 0.5\n",
      "BATCH_SIZE = 64\n",
      "EPOCHS = 250 \n",
      "\n",
      "===== Training Epoch 1 =====\n"
     ]
    },
    {
     "name": "stderr",
     "output_type": "stream",
     "text": [
      "/Users/tarlisportela/miniforge3/lib/python3.9/site-packages/keras/optimizers/optimizer_v2/adam.py:110: UserWarning: The `lr` argument is deprecated, use `learning_rate` instead.\n",
      "  super(Adam, self).__init__(name, **kwargs)\n",
      "2023-12-17 01:43:57.755078: I tensorflow/core/grappler/optimizers/custom_graph_optimizer_registry.cc:113] Plugin optimizer for device_type GPU is enabled.\n"
     ]
    },
    {
     "name": "stdout",
     "output_type": "stream",
     "text": [
      "14/14 [==============================] - 0s 2ms/step\n"
     ]
    },
    {
     "name": "stderr",
     "output_type": "stream",
     "text": [
      "2023-12-17 01:43:58.068387: I tensorflow/core/grappler/optimizers/custom_graph_optimizer_registry.cc:113] Plugin optimizer for device_type GPU is enabled.\n",
      "2023-12-17 01:43:58.205655: I tensorflow/core/grappler/optimizers/custom_graph_optimizer_registry.cc:113] Plugin optimizer for device_type GPU is enabled.\n"
     ]
    },
    {
     "name": "stdout",
     "output_type": "stream",
     "text": [
      "TRAIN\t\tacc: 0.038031\tacc_top5: 0.138702\tf1_macro: 0.023571\tprec_macro: 0.018810\trec_macro: 0.038889\n",
      "12/12 [==============================] - 0s 13ms/step\n"
     ]
    },
    {
     "name": "stderr",
     "output_type": "stream",
     "text": [
      "/Users/tarlisportela/miniforge3/lib/python3.9/site-packages/sklearn/metrics/_classification.py:1327: UndefinedMetricWarning: Precision is ill-defined and being set to 0.0 in labels with no predicted samples. Use `zero_division` parameter to control this behavior.\n",
      "  _warn_prf(average, modifier, msg_start, len(result))\n"
     ]
    },
    {
     "name": "stdout",
     "output_type": "stream",
     "text": [
      "TEST\t\tacc: 0.002778\tacc_top5: 0.025000\tf1_macro: 0.003333\tprec_macro: 0.003333\trec_macro: 0.003333\n",
      "===== Training Epoch 2 =====\n",
      " 1/14 [=>............................] - ETA: 0s"
     ]
    },
    {
     "name": "stderr",
     "output_type": "stream",
     "text": [
      "/Users/tarlisportela/miniforge3/lib/python3.9/site-packages/sklearn/metrics/_classification.py:1327: UndefinedMetricWarning: Precision is ill-defined and being set to 0.0 in labels with no predicted samples. Use `zero_division` parameter to control this behavior.\n",
      "  _warn_prf(average, modifier, msg_start, len(result))\n"
     ]
    },
    {
     "name": "stdout",
     "output_type": "stream",
     "text": [
      "14/14 [==============================] - 0s 2ms/step\n",
      "TRAIN\t\tacc: 0.313199\tacc_top5: 0.498881\tf1_macro: 0.248182\tprec_macro: 0.243722\trec_macro: 0.306389\n",
      "12/12 [==============================] - 0s 2ms/step\n",
      "TEST\t\tacc: 0.025000\tacc_top5: 0.052778\tf1_macro: 0.018000\tprec_macro: 0.018444\trec_macro: 0.021667\n",
      "===== Training Epoch 3 =====\n"
     ]
    },
    {
     "name": "stderr",
     "output_type": "stream",
     "text": [
      "/Users/tarlisportela/miniforge3/lib/python3.9/site-packages/sklearn/metrics/_classification.py:1327: UndefinedMetricWarning: Precision is ill-defined and being set to 0.0 in labels with no predicted samples. Use `zero_division` parameter to control this behavior.\n",
      "  _warn_prf(average, modifier, msg_start, len(result))\n",
      "/Users/tarlisportela/miniforge3/lib/python3.9/site-packages/sklearn/metrics/_classification.py:1327: UndefinedMetricWarning: Precision is ill-defined and being set to 0.0 in labels with no predicted samples. Use `zero_division` parameter to control this behavior.\n",
      "  _warn_prf(average, modifier, msg_start, len(result))\n"
     ]
    },
    {
     "name": "stdout",
     "output_type": "stream",
     "text": [
      "14/14 [==============================] - 0s 2ms/step\n",
      "TRAIN\t\tacc: 0.666667\tacc_top5: 0.823266\tf1_macro: 0.619778\tprec_macro: 0.617173\trec_macro: 0.669111\n",
      "12/12 [==============================] - 0s 2ms/step\n",
      "TEST\t\tacc: 0.041667\tacc_top5: 0.077778\tf1_macro: 0.030111\tprec_macro: 0.029000\trec_macro: 0.036111\n",
      "===== Training Epoch 4 =====\n"
     ]
    },
    {
     "name": "stderr",
     "output_type": "stream",
     "text": [
      "/Users/tarlisportela/miniforge3/lib/python3.9/site-packages/sklearn/metrics/_classification.py:1327: UndefinedMetricWarning: Precision is ill-defined and being set to 0.0 in labels with no predicted samples. Use `zero_division` parameter to control this behavior.\n",
      "  _warn_prf(average, modifier, msg_start, len(result))\n",
      "/Users/tarlisportela/miniforge3/lib/python3.9/site-packages/sklearn/metrics/_classification.py:1327: UndefinedMetricWarning: Precision is ill-defined and being set to 0.0 in labels with no predicted samples. Use `zero_division` parameter to control this behavior.\n",
      "  _warn_prf(average, modifier, msg_start, len(result))\n"
     ]
    },
    {
     "name": "stdout",
     "output_type": "stream",
     "text": [
      "14/14 [==============================] - 0s 2ms/step\n",
      "TRAIN\t\tacc: 0.834452\tacc_top5: 0.941834\tf1_macro: 0.803330\tprec_macro: 0.803703\trec_macro: 0.829500\n",
      "12/12 [==============================] - 0s 2ms/step\n",
      "TEST\t\tacc: 0.055556\tacc_top5: 0.094444\tf1_macro: 0.045905\tprec_macro: 0.044667\trec_macro: 0.051111\n",
      "===== Training Epoch 5 =====\n"
     ]
    },
    {
     "name": "stderr",
     "output_type": "stream",
     "text": [
      "/Users/tarlisportela/miniforge3/lib/python3.9/site-packages/sklearn/metrics/_classification.py:1327: UndefinedMetricWarning: Precision is ill-defined and being set to 0.0 in labels with no predicted samples. Use `zero_division` parameter to control this behavior.\n",
      "  _warn_prf(average, modifier, msg_start, len(result))\n",
      "/Users/tarlisportela/miniforge3/lib/python3.9/site-packages/sklearn/metrics/_classification.py:1327: UndefinedMetricWarning: Precision is ill-defined and being set to 0.0 in labels with no predicted samples. Use `zero_division` parameter to control this behavior.\n",
      "  _warn_prf(average, modifier, msg_start, len(result))\n"
     ]
    },
    {
     "name": "stdout",
     "output_type": "stream",
     "text": [
      "14/14 [==============================] - 0s 2ms/step\n",
      "TRAIN\t\tacc: 0.881432\tacc_top5: 0.975391\tf1_macro: 0.864415\tprec_macro: 0.867147\trec_macro: 0.883111\n",
      "12/12 [==============================] - 0s 2ms/step\n",
      "TEST\t\tacc: 0.066667\tacc_top5: 0.102778\tf1_macro: 0.052694\tprec_macro: 0.052850\trec_macro: 0.058889\n",
      "===== Training Epoch 6 =====\n"
     ]
    },
    {
     "name": "stderr",
     "output_type": "stream",
     "text": [
      "/Users/tarlisportela/miniforge3/lib/python3.9/site-packages/sklearn/metrics/_classification.py:1327: UndefinedMetricWarning: Precision is ill-defined and being set to 0.0 in labels with no predicted samples. Use `zero_division` parameter to control this behavior.\n",
      "  _warn_prf(average, modifier, msg_start, len(result))\n",
      "/Users/tarlisportela/miniforge3/lib/python3.9/site-packages/sklearn/metrics/_classification.py:1327: UndefinedMetricWarning: Precision is ill-defined and being set to 0.0 in labels with no predicted samples. Use `zero_division` parameter to control this behavior.\n",
      "  _warn_prf(average, modifier, msg_start, len(result))\n"
     ]
    },
    {
     "name": "stdout",
     "output_type": "stream",
     "text": [
      "14/14 [==============================] - 0s 2ms/step\n",
      "TRAIN\t\tacc: 0.901566\tacc_top5: 0.984340\tf1_macro: 0.888531\tprec_macro: 0.893536\trec_macro: 0.902667\n",
      "12/12 [==============================] - 0s 2ms/step\n",
      "TEST\t\tacc: 0.069444\tacc_top5: 0.105556\tf1_macro: 0.052133\tprec_macro: 0.050372\trec_macro: 0.062222\n",
      "===== Training Epoch 7 =====\n"
     ]
    },
    {
     "name": "stderr",
     "output_type": "stream",
     "text": [
      "/Users/tarlisportela/miniforge3/lib/python3.9/site-packages/sklearn/metrics/_classification.py:1327: UndefinedMetricWarning: Precision is ill-defined and being set to 0.0 in labels with no predicted samples. Use `zero_division` parameter to control this behavior.\n",
      "  _warn_prf(average, modifier, msg_start, len(result))\n",
      "/Users/tarlisportela/miniforge3/lib/python3.9/site-packages/sklearn/metrics/_classification.py:1327: UndefinedMetricWarning: Precision is ill-defined and being set to 0.0 in labels with no predicted samples. Use `zero_division` parameter to control this behavior.\n",
      "  _warn_prf(average, modifier, msg_start, len(result))\n"
     ]
    },
    {
     "name": "stdout",
     "output_type": "stream",
     "text": [
      "14/14 [==============================] - 0s 2ms/step\n",
      "TRAIN\t\tacc: 0.901566\tacc_top5: 0.984340\tf1_macro: 0.888785\tprec_macro: 0.893258\trec_macro: 0.903222\n",
      "12/12 [==============================] - 0s 2ms/step\n",
      "TEST\t\tacc: 0.072222\tacc_top5: 0.105556\tf1_macro: 0.054353\tprec_macro: 0.052038\trec_macro: 0.065556\n",
      "===== Training Epoch 8 =====\n"
     ]
    },
    {
     "name": "stderr",
     "output_type": "stream",
     "text": [
      "/Users/tarlisportela/miniforge3/lib/python3.9/site-packages/sklearn/metrics/_classification.py:1327: UndefinedMetricWarning: Precision is ill-defined and being set to 0.0 in labels with no predicted samples. Use `zero_division` parameter to control this behavior.\n",
      "  _warn_prf(average, modifier, msg_start, len(result))\n",
      "/Users/tarlisportela/miniforge3/lib/python3.9/site-packages/sklearn/metrics/_classification.py:1327: UndefinedMetricWarning: Precision is ill-defined and being set to 0.0 in labels with no predicted samples. Use `zero_division` parameter to control this behavior.\n",
      "  _warn_prf(average, modifier, msg_start, len(result))\n"
     ]
    },
    {
     "name": "stdout",
     "output_type": "stream",
     "text": [
      "14/14 [==============================] - 0s 2ms/step\n",
      "TRAIN\t\tacc: 0.906040\tacc_top5: 0.984340\tf1_macro: 0.890457\tprec_macro: 0.895758\trec_macro: 0.903333\n",
      "12/12 [==============================] - 0s 2ms/step\n",
      "TEST\t\tacc: 0.072222\tacc_top5: 0.102778\tf1_macro: 0.053083\tprec_macro: 0.050649\trec_macro: 0.063889\n",
      "===== Training Epoch 9 =====\n"
     ]
    },
    {
     "name": "stderr",
     "output_type": "stream",
     "text": [
      "/Users/tarlisportela/miniforge3/lib/python3.9/site-packages/sklearn/metrics/_classification.py:1327: UndefinedMetricWarning: Precision is ill-defined and being set to 0.0 in labels with no predicted samples. Use `zero_division` parameter to control this behavior.\n",
      "  _warn_prf(average, modifier, msg_start, len(result))\n",
      "/Users/tarlisportela/miniforge3/lib/python3.9/site-packages/sklearn/metrics/_classification.py:1327: UndefinedMetricWarning: Precision is ill-defined and being set to 0.0 in labels with no predicted samples. Use `zero_division` parameter to control this behavior.\n",
      "  _warn_prf(average, modifier, msg_start, len(result))\n"
     ]
    },
    {
     "name": "stdout",
     "output_type": "stream",
     "text": [
      "14/14 [==============================] - 0s 2ms/step\n",
      "TRAIN\t\tacc: 0.910515\tacc_top5: 0.984340\tf1_macro: 0.894097\tprec_macro: 0.898369\trec_macro: 0.906389\n",
      "12/12 [==============================] - 0s 2ms/step\n",
      "TEST\t\tacc: 0.069444\tacc_top5: 0.100000\tf1_macro: 0.052528\tprec_macro: 0.050346\trec_macro: 0.060556\n",
      "===== Training Epoch 10 =====\n"
     ]
    },
    {
     "name": "stderr",
     "output_type": "stream",
     "text": [
      "/Users/tarlisportela/miniforge3/lib/python3.9/site-packages/sklearn/metrics/_classification.py:1327: UndefinedMetricWarning: Precision is ill-defined and being set to 0.0 in labels with no predicted samples. Use `zero_division` parameter to control this behavior.\n",
      "  _warn_prf(average, modifier, msg_start, len(result))\n",
      "/Users/tarlisportela/miniforge3/lib/python3.9/site-packages/sklearn/metrics/_classification.py:1327: UndefinedMetricWarning: Precision is ill-defined and being set to 0.0 in labels with no predicted samples. Use `zero_division` parameter to control this behavior.\n",
      "  _warn_prf(average, modifier, msg_start, len(result))\n"
     ]
    },
    {
     "name": "stdout",
     "output_type": "stream",
     "text": [
      "14/14 [==============================] - 0s 2ms/step\n",
      "TRAIN\t\tacc: 0.908277\tacc_top5: 0.984340\tf1_macro: 0.892510\tprec_macro: 0.897536\trec_macro: 0.904722\n",
      "12/12 [==============================] - 0s 2ms/step\n",
      "TEST\t\tacc: 0.069444\tacc_top5: 0.102778\tf1_macro: 0.051416\tprec_macro: 0.048679\trec_macro: 0.060556\n",
      "===== Training Epoch 11 =====\n"
     ]
    },
    {
     "name": "stderr",
     "output_type": "stream",
     "text": [
      "/Users/tarlisportela/miniforge3/lib/python3.9/site-packages/sklearn/metrics/_classification.py:1327: UndefinedMetricWarning: Precision is ill-defined and being set to 0.0 in labels with no predicted samples. Use `zero_division` parameter to control this behavior.\n",
      "  _warn_prf(average, modifier, msg_start, len(result))\n",
      "/Users/tarlisportela/miniforge3/lib/python3.9/site-packages/sklearn/metrics/_classification.py:1327: UndefinedMetricWarning: Precision is ill-defined and being set to 0.0 in labels with no predicted samples. Use `zero_division` parameter to control this behavior.\n",
      "  _warn_prf(average, modifier, msg_start, len(result))\n"
     ]
    },
    {
     "name": "stdout",
     "output_type": "stream",
     "text": [
      "14/14 [==============================] - 0s 2ms/step\n",
      "TRAIN\t\tacc: 0.908277\tacc_top5: 0.984340\tf1_macro: 0.892510\tprec_macro: 0.897536\trec_macro: 0.904722\n",
      "12/12 [==============================] - 0s 2ms/step\n",
      "TEST\t\tacc: 0.072222\tacc_top5: 0.105556\tf1_macro: 0.053639\tprec_macro: 0.050346\trec_macro: 0.063889\n",
      "===== Training Epoch 12 =====\n"
     ]
    },
    {
     "name": "stderr",
     "output_type": "stream",
     "text": [
      "/Users/tarlisportela/miniforge3/lib/python3.9/site-packages/sklearn/metrics/_classification.py:1327: UndefinedMetricWarning: Precision is ill-defined and being set to 0.0 in labels with no predicted samples. Use `zero_division` parameter to control this behavior.\n",
      "  _warn_prf(average, modifier, msg_start, len(result))\n",
      "/Users/tarlisportela/miniforge3/lib/python3.9/site-packages/sklearn/metrics/_classification.py:1327: UndefinedMetricWarning: Precision is ill-defined and being set to 0.0 in labels with no predicted samples. Use `zero_division` parameter to control this behavior.\n",
      "  _warn_prf(average, modifier, msg_start, len(result))\n"
     ]
    },
    {
     "name": "stdout",
     "output_type": "stream",
     "text": [
      "14/14 [==============================] - 0s 2ms/step\n",
      "TRAIN\t\tacc: 0.908277\tacc_top5: 0.984340\tf1_macro: 0.892425\tprec_macro: 0.897703\trec_macro: 0.904444\n",
      "12/12 [==============================] - 0s 2ms/step\n",
      "TEST\t\tacc: 0.072222\tacc_top5: 0.108333\tf1_macro: 0.053083\tprec_macro: 0.049790\trec_macro: 0.063889\n",
      "===== Training Epoch 13 =====\n"
     ]
    },
    {
     "name": "stderr",
     "output_type": "stream",
     "text": [
      "/Users/tarlisportela/miniforge3/lib/python3.9/site-packages/sklearn/metrics/_classification.py:1327: UndefinedMetricWarning: Precision is ill-defined and being set to 0.0 in labels with no predicted samples. Use `zero_division` parameter to control this behavior.\n",
      "  _warn_prf(average, modifier, msg_start, len(result))\n",
      "/Users/tarlisportela/miniforge3/lib/python3.9/site-packages/sklearn/metrics/_classification.py:1327: UndefinedMetricWarning: Precision is ill-defined and being set to 0.0 in labels with no predicted samples. Use `zero_division` parameter to control this behavior.\n",
      "  _warn_prf(average, modifier, msg_start, len(result))\n"
     ]
    },
    {
     "name": "stdout",
     "output_type": "stream",
     "text": [
      "14/14 [==============================] - 0s 2ms/step\n",
      "TRAIN\t\tacc: 0.910515\tacc_top5: 0.984340\tf1_macro: 0.896870\tprec_macro: 0.902703\trec_macro: 0.907778\n",
      "12/12 [==============================] - 0s 2ms/step\n",
      "TEST\t\tacc: 0.072222\tacc_top5: 0.108333\tf1_macro: 0.053083\tprec_macro: 0.049790\trec_macro: 0.063889\n",
      "===== Training Epoch 14 =====\n"
     ]
    },
    {
     "name": "stderr",
     "output_type": "stream",
     "text": [
      "/Users/tarlisportela/miniforge3/lib/python3.9/site-packages/sklearn/metrics/_classification.py:1327: UndefinedMetricWarning: Precision is ill-defined and being set to 0.0 in labels with no predicted samples. Use `zero_division` parameter to control this behavior.\n",
      "  _warn_prf(average, modifier, msg_start, len(result))\n",
      "/Users/tarlisportela/miniforge3/lib/python3.9/site-packages/sklearn/metrics/_classification.py:1327: UndefinedMetricWarning: Precision is ill-defined and being set to 0.0 in labels with no predicted samples. Use `zero_division` parameter to control this behavior.\n",
      "  _warn_prf(average, modifier, msg_start, len(result))\n"
     ]
    },
    {
     "name": "stdout",
     "output_type": "stream",
     "text": [
      "14/14 [==============================] - 0s 2ms/step\n",
      "TRAIN\t\tacc: 0.910515\tacc_top5: 0.984340\tf1_macro: 0.894092\tprec_macro: 0.898258\trec_macro: 0.906111\n",
      "12/12 [==============================] - 0s 2ms/step\n",
      "TEST\t\tacc: 0.075000\tacc_top5: 0.108333\tf1_macro: 0.057305\tprec_macro: 0.054235\trec_macro: 0.067222\n",
      "===== Training Epoch 15 =====\n"
     ]
    },
    {
     "name": "stderr",
     "output_type": "stream",
     "text": [
      "/Users/tarlisportela/miniforge3/lib/python3.9/site-packages/sklearn/metrics/_classification.py:1327: UndefinedMetricWarning: Precision is ill-defined and being set to 0.0 in labels with no predicted samples. Use `zero_division` parameter to control this behavior.\n",
      "  _warn_prf(average, modifier, msg_start, len(result))\n",
      "/Users/tarlisportela/miniforge3/lib/python3.9/site-packages/sklearn/metrics/_classification.py:1327: UndefinedMetricWarning: Precision is ill-defined and being set to 0.0 in labels with no predicted samples. Use `zero_division` parameter to control this behavior.\n",
      "  _warn_prf(average, modifier, msg_start, len(result))\n"
     ]
    },
    {
     "name": "stdout",
     "output_type": "stream",
     "text": [
      "14/14 [==============================] - 0s 2ms/step\n",
      "TRAIN\t\tacc: 0.912752\tacc_top5: 0.984340\tf1_macro: 0.897981\tprec_macro: 0.901791\trec_macro: 0.908222\n",
      "12/12 [==============================] - 0s 2ms/step\n",
      "TEST\t\tacc: 0.072222\tacc_top5: 0.105556\tf1_macro: 0.055083\tprec_macro: 0.052568\trec_macro: 0.063889\n",
      "===== Training Epoch 16 =====\n"
     ]
    },
    {
     "name": "stderr",
     "output_type": "stream",
     "text": [
      "/Users/tarlisportela/miniforge3/lib/python3.9/site-packages/sklearn/metrics/_classification.py:1327: UndefinedMetricWarning: Precision is ill-defined and being set to 0.0 in labels with no predicted samples. Use `zero_division` parameter to control this behavior.\n",
      "  _warn_prf(average, modifier, msg_start, len(result))\n",
      "/Users/tarlisportela/miniforge3/lib/python3.9/site-packages/sklearn/metrics/_classification.py:1327: UndefinedMetricWarning: Precision is ill-defined and being set to 0.0 in labels with no predicted samples. Use `zero_division` parameter to control this behavior.\n",
      "  _warn_prf(average, modifier, msg_start, len(result))\n"
     ]
    },
    {
     "name": "stdout",
     "output_type": "stream",
     "text": [
      "14/14 [==============================] - 0s 2ms/step\n",
      "TRAIN\t\tacc: 0.908277\tacc_top5: 0.984340\tf1_macro: 0.890632\tprec_macro: 0.893791\trec_macro: 0.901556\n",
      "12/12 [==============================] - 0s 2ms/step\n",
      "TEST\t\tacc: 0.075000\tacc_top5: 0.105556\tf1_macro: 0.057305\tprec_macro: 0.054235\trec_macro: 0.067222\n",
      "===== Training Epoch 17 =====\n"
     ]
    },
    {
     "name": "stderr",
     "output_type": "stream",
     "text": [
      "/Users/tarlisportela/miniforge3/lib/python3.9/site-packages/sklearn/metrics/_classification.py:1327: UndefinedMetricWarning: Precision is ill-defined and being set to 0.0 in labels with no predicted samples. Use `zero_division` parameter to control this behavior.\n",
      "  _warn_prf(average, modifier, msg_start, len(result))\n",
      "/Users/tarlisportela/miniforge3/lib/python3.9/site-packages/sklearn/metrics/_classification.py:1327: UndefinedMetricWarning: Precision is ill-defined and being set to 0.0 in labels with no predicted samples. Use `zero_division` parameter to control this behavior.\n",
      "  _warn_prf(average, modifier, msg_start, len(result))\n"
     ]
    },
    {
     "name": "stdout",
     "output_type": "stream",
     "text": [
      "14/14 [==============================] - 0s 2ms/step\n",
      "TRAIN\t\tacc: 0.908277\tacc_top5: 0.984340\tf1_macro: 0.889537\tprec_macro: 0.892346\trec_macro: 0.901556\n",
      "12/12 [==============================] - 0s 2ms/step\n",
      "TEST\t\tacc: 0.075000\tacc_top5: 0.108333\tf1_macro: 0.057305\tprec_macro: 0.054235\trec_macro: 0.067222\n",
      "===== Training Epoch 18 =====\n"
     ]
    },
    {
     "name": "stderr",
     "output_type": "stream",
     "text": [
      "/Users/tarlisportela/miniforge3/lib/python3.9/site-packages/sklearn/metrics/_classification.py:1327: UndefinedMetricWarning: Precision is ill-defined and being set to 0.0 in labels with no predicted samples. Use `zero_division` parameter to control this behavior.\n",
      "  _warn_prf(average, modifier, msg_start, len(result))\n",
      "/Users/tarlisportela/miniforge3/lib/python3.9/site-packages/sklearn/metrics/_classification.py:1327: UndefinedMetricWarning: Precision is ill-defined and being set to 0.0 in labels with no predicted samples. Use `zero_division` parameter to control this behavior.\n",
      "  _warn_prf(average, modifier, msg_start, len(result))\n"
     ]
    },
    {
     "name": "stdout",
     "output_type": "stream",
     "text": [
      "14/14 [==============================] - 0s 2ms/step\n",
      "TRAIN\t\tacc: 0.910515\tacc_top5: 0.984340\tf1_macro: 0.891870\tprec_macro: 0.894013\trec_macro: 0.903222\n",
      "12/12 [==============================] - 0s 2ms/step\n",
      "TEST\t\tacc: 0.072222\tacc_top5: 0.108333\tf1_macro: 0.055088\tprec_macro: 0.052571\trec_macro: 0.063889\n",
      "===== Training Epoch 19 =====\n"
     ]
    },
    {
     "name": "stderr",
     "output_type": "stream",
     "text": [
      "/Users/tarlisportela/miniforge3/lib/python3.9/site-packages/sklearn/metrics/_classification.py:1327: UndefinedMetricWarning: Precision is ill-defined and being set to 0.0 in labels with no predicted samples. Use `zero_division` parameter to control this behavior.\n",
      "  _warn_prf(average, modifier, msg_start, len(result))\n",
      "/Users/tarlisportela/miniforge3/lib/python3.9/site-packages/sklearn/metrics/_classification.py:1327: UndefinedMetricWarning: Precision is ill-defined and being set to 0.0 in labels with no predicted samples. Use `zero_division` parameter to control this behavior.\n",
      "  _warn_prf(average, modifier, msg_start, len(result))\n"
     ]
    },
    {
     "name": "stdout",
     "output_type": "stream",
     "text": [
      "14/14 [==============================] - 0s 2ms/step\n",
      "TRAIN\t\tacc: 0.906040\tacc_top5: 0.984340\tf1_macro: 0.886315\tprec_macro: 0.889013\trec_macro: 0.898222\n",
      "12/12 [==============================] - 0s 2ms/step\n",
      "TEST\t\tacc: 0.075000\tacc_top5: 0.111111\tf1_macro: 0.056758\tprec_macro: 0.054239\trec_macro: 0.067222\n",
      "===== Training Epoch 20 =====\n"
     ]
    },
    {
     "name": "stderr",
     "output_type": "stream",
     "text": [
      "/Users/tarlisportela/miniforge3/lib/python3.9/site-packages/sklearn/metrics/_classification.py:1327: UndefinedMetricWarning: Precision is ill-defined and being set to 0.0 in labels with no predicted samples. Use `zero_division` parameter to control this behavior.\n",
      "  _warn_prf(average, modifier, msg_start, len(result))\n",
      "/Users/tarlisportela/miniforge3/lib/python3.9/site-packages/sklearn/metrics/_classification.py:1327: UndefinedMetricWarning: Precision is ill-defined and being set to 0.0 in labels with no predicted samples. Use `zero_division` parameter to control this behavior.\n",
      "  _warn_prf(average, modifier, msg_start, len(result))\n"
     ]
    },
    {
     "name": "stdout",
     "output_type": "stream",
     "text": [
      "14/14 [==============================] - 0s 2ms/step\n",
      "TRAIN\t\tacc: 0.912752\tacc_top5: 0.984340\tf1_macro: 0.893537\tprec_macro: 0.894568\trec_macro: 0.904889\n",
      "12/12 [==============================] - 0s 2ms/step\n",
      "TEST\t\tacc: 0.063889\tacc_top5: 0.111111\tf1_macro: 0.047313\tprec_macro: 0.046461\trec_macro: 0.053889\n",
      "===== Training Epoch 21 =====\n"
     ]
    },
    {
     "name": "stderr",
     "output_type": "stream",
     "text": [
      "/Users/tarlisportela/miniforge3/lib/python3.9/site-packages/sklearn/metrics/_classification.py:1327: UndefinedMetricWarning: Precision is ill-defined and being set to 0.0 in labels with no predicted samples. Use `zero_division` parameter to control this behavior.\n",
      "  _warn_prf(average, modifier, msg_start, len(result))\n",
      "/Users/tarlisportela/miniforge3/lib/python3.9/site-packages/sklearn/metrics/_classification.py:1327: UndefinedMetricWarning: Precision is ill-defined and being set to 0.0 in labels with no predicted samples. Use `zero_division` parameter to control this behavior.\n",
      "  _warn_prf(average, modifier, msg_start, len(result))\n"
     ]
    },
    {
     "name": "stdout",
     "output_type": "stream",
     "text": [
      "14/14 [==============================] - 0s 2ms/step\n",
      "TRAIN\t\tacc: 0.912752\tacc_top5: 0.984340\tf1_macro: 0.895299\tprec_macro: 0.897124\trec_macro: 0.904889\n",
      "12/12 [==============================] - 0s 2ms/step\n",
      "TEST\t\tacc: 0.063889\tacc_top5: 0.111111\tf1_macro: 0.047313\tprec_macro: 0.046461\trec_macro: 0.053889\n",
      "===== Training Epoch 22 =====\n"
     ]
    },
    {
     "name": "stderr",
     "output_type": "stream",
     "text": [
      "/Users/tarlisportela/miniforge3/lib/python3.9/site-packages/sklearn/metrics/_classification.py:1327: UndefinedMetricWarning: Precision is ill-defined and being set to 0.0 in labels with no predicted samples. Use `zero_division` parameter to control this behavior.\n",
      "  _warn_prf(average, modifier, msg_start, len(result))\n",
      "/Users/tarlisportela/miniforge3/lib/python3.9/site-packages/sklearn/metrics/_classification.py:1327: UndefinedMetricWarning: Precision is ill-defined and being set to 0.0 in labels with no predicted samples. Use `zero_division` parameter to control this behavior.\n",
      "  _warn_prf(average, modifier, msg_start, len(result))\n"
     ]
    },
    {
     "name": "stdout",
     "output_type": "stream",
     "text": [
      "14/14 [==============================] - 0s 2ms/step\n",
      "TRAIN\t\tacc: 0.912752\tacc_top5: 0.984340\tf1_macro: 0.894188\tprec_macro: 0.895457\trec_macro: 0.904889\n",
      "12/12 [==============================] - 0s 2ms/step\n"
     ]
    },
    {
     "name": "stderr",
     "output_type": "stream",
     "text": [
      "/Users/tarlisportela/miniforge3/lib/python3.9/site-packages/sklearn/metrics/_classification.py:1327: UndefinedMetricWarning: Precision is ill-defined and being set to 0.0 in labels with no predicted samples. Use `zero_division` parameter to control this behavior.\n",
      "  _warn_prf(average, modifier, msg_start, len(result))\n"
     ]
    },
    {
     "name": "stdout",
     "output_type": "stream",
     "text": [
      "TEST\t\tacc: 0.063889\tacc_top5: 0.116667\tf1_macro: 0.046761\tprec_macro: 0.045907\trec_macro: 0.053889\n",
      "===== Training Epoch 23 =====\n",
      "14/14 [==============================] - 0s 2ms/step\n"
     ]
    },
    {
     "name": "stderr",
     "output_type": "stream",
     "text": [
      "/Users/tarlisportela/miniforge3/lib/python3.9/site-packages/sklearn/metrics/_classification.py:1327: UndefinedMetricWarning: Precision is ill-defined and being set to 0.0 in labels with no predicted samples. Use `zero_division` parameter to control this behavior.\n",
      "  _warn_prf(average, modifier, msg_start, len(result))\n"
     ]
    },
    {
     "name": "stdout",
     "output_type": "stream",
     "text": [
      "TRAIN\t\tacc: 0.912752\tacc_top5: 0.984340\tf1_macro: 0.893093\tprec_macro: 0.894013\trec_macro: 0.904889\n",
      "12/12 [==============================] - 0s 2ms/step\n",
      "TEST\t\tacc: 0.058333\tacc_top5: 0.116667\tf1_macro: 0.044952\tprec_macro: 0.044722\trec_macro: 0.048889\n",
      "===== Training Epoch 24 =====\n"
     ]
    },
    {
     "name": "stderr",
     "output_type": "stream",
     "text": [
      "/Users/tarlisportela/miniforge3/lib/python3.9/site-packages/sklearn/metrics/_classification.py:1327: UndefinedMetricWarning: Precision is ill-defined and being set to 0.0 in labels with no predicted samples. Use `zero_division` parameter to control this behavior.\n",
      "  _warn_prf(average, modifier, msg_start, len(result))\n",
      "/Users/tarlisportela/miniforge3/lib/python3.9/site-packages/sklearn/metrics/_classification.py:1327: UndefinedMetricWarning: Precision is ill-defined and being set to 0.0 in labels with no predicted samples. Use `zero_division` parameter to control this behavior.\n",
      "  _warn_prf(average, modifier, msg_start, len(result))\n"
     ]
    },
    {
     "name": "stdout",
     "output_type": "stream",
     "text": [
      "14/14 [==============================] - 0s 2ms/step\n",
      "TRAIN\t\tacc: 0.914989\tacc_top5: 0.984340\tf1_macro: 0.898632\tprec_macro: 0.900457\trec_macro: 0.908222\n",
      "12/12 [==============================] - 0s 2ms/step\n",
      "TEST\t\tacc: 0.058333\tacc_top5: 0.116667\tf1_macro: 0.044952\tprec_macro: 0.044722\trec_macro: 0.048889\n",
      "===== Training Epoch 25 =====\n"
     ]
    },
    {
     "name": "stderr",
     "output_type": "stream",
     "text": [
      "/Users/tarlisportela/miniforge3/lib/python3.9/site-packages/sklearn/metrics/_classification.py:1327: UndefinedMetricWarning: Precision is ill-defined and being set to 0.0 in labels with no predicted samples. Use `zero_division` parameter to control this behavior.\n",
      "  _warn_prf(average, modifier, msg_start, len(result))\n",
      "/Users/tarlisportela/miniforge3/lib/python3.9/site-packages/sklearn/metrics/_classification.py:1327: UndefinedMetricWarning: Precision is ill-defined and being set to 0.0 in labels with no predicted samples. Use `zero_division` parameter to control this behavior.\n",
      "  _warn_prf(average, modifier, msg_start, len(result))\n"
     ]
    },
    {
     "name": "stdout",
     "output_type": "stream",
     "text": [
      "14/14 [==============================] - 0s 2ms/step\n",
      "TRAIN\t\tacc: 0.914989\tacc_top5: 0.984340\tf1_macro: 0.897537\tprec_macro: 0.899013\trec_macro: 0.908222\n",
      "12/12 [==============================] - 0s 2ms/step\n",
      "TEST\t\tacc: 0.061111\tacc_top5: 0.113889\tf1_macro: 0.047175\tprec_macro: 0.046389\trec_macro: 0.052222\n",
      "===== Training Epoch 26 =====\n"
     ]
    },
    {
     "name": "stderr",
     "output_type": "stream",
     "text": [
      "/Users/tarlisportela/miniforge3/lib/python3.9/site-packages/sklearn/metrics/_classification.py:1327: UndefinedMetricWarning: Precision is ill-defined and being set to 0.0 in labels with no predicted samples. Use `zero_division` parameter to control this behavior.\n",
      "  _warn_prf(average, modifier, msg_start, len(result))\n",
      "/Users/tarlisportela/miniforge3/lib/python3.9/site-packages/sklearn/metrics/_classification.py:1327: UndefinedMetricWarning: Precision is ill-defined and being set to 0.0 in labels with no predicted samples. Use `zero_division` parameter to control this behavior.\n",
      "  _warn_prf(average, modifier, msg_start, len(result))\n"
     ]
    },
    {
     "name": "stdout",
     "output_type": "stream",
     "text": [
      "14/14 [==============================] - 0s 2ms/step\n",
      "TRAIN\t\tacc: 0.914989\tacc_top5: 0.984340\tf1_macro: 0.897537\tprec_macro: 0.899013\trec_macro: 0.908222\n",
      "12/12 [==============================] - 0s 2ms/step\n",
      "TEST\t\tacc: 0.058333\tacc_top5: 0.113889\tf1_macro: 0.044952\tprec_macro: 0.044722\trec_macro: 0.048889\n",
      "===== Training Epoch 27 =====\n"
     ]
    },
    {
     "name": "stderr",
     "output_type": "stream",
     "text": [
      "/Users/tarlisportela/miniforge3/lib/python3.9/site-packages/sklearn/metrics/_classification.py:1327: UndefinedMetricWarning: Precision is ill-defined and being set to 0.0 in labels with no predicted samples. Use `zero_division` parameter to control this behavior.\n",
      "  _warn_prf(average, modifier, msg_start, len(result))\n",
      "/Users/tarlisportela/miniforge3/lib/python3.9/site-packages/sklearn/metrics/_classification.py:1327: UndefinedMetricWarning: Precision is ill-defined and being set to 0.0 in labels with no predicted samples. Use `zero_division` parameter to control this behavior.\n",
      "  _warn_prf(average, modifier, msg_start, len(result))\n"
     ]
    },
    {
     "name": "stdout",
     "output_type": "stream",
     "text": [
      "14/14 [==============================] - 0s 2ms/step\n",
      "TRAIN\t\tacc: 0.914989\tacc_top5: 0.984340\tf1_macro: 0.897537\tprec_macro: 0.899013\trec_macro: 0.908222\n",
      "12/12 [==============================] - 0s 2ms/step\n",
      "TEST\t\tacc: 0.061111\tacc_top5: 0.108333\tf1_macro: 0.047175\tprec_macro: 0.046389\trec_macro: 0.052222\n",
      "===== Training Epoch 28 =====\n"
     ]
    },
    {
     "name": "stderr",
     "output_type": "stream",
     "text": [
      "/Users/tarlisportela/miniforge3/lib/python3.9/site-packages/sklearn/metrics/_classification.py:1327: UndefinedMetricWarning: Precision is ill-defined and being set to 0.0 in labels with no predicted samples. Use `zero_division` parameter to control this behavior.\n",
      "  _warn_prf(average, modifier, msg_start, len(result))\n",
      "/Users/tarlisportela/miniforge3/lib/python3.9/site-packages/sklearn/metrics/_classification.py:1327: UndefinedMetricWarning: Precision is ill-defined and being set to 0.0 in labels with no predicted samples. Use `zero_division` parameter to control this behavior.\n",
      "  _warn_prf(average, modifier, msg_start, len(result))\n"
     ]
    },
    {
     "name": "stdout",
     "output_type": "stream",
     "text": [
      "14/14 [==============================] - 0s 2ms/step\n",
      "TRAIN\t\tacc: 0.914989\tacc_top5: 0.984340\tf1_macro: 0.897537\tprec_macro: 0.899013\trec_macro: 0.908222\n",
      "12/12 [==============================] - 0s 2ms/step\n",
      "TEST\t\tacc: 0.061111\tacc_top5: 0.111111\tf1_macro: 0.047175\tprec_macro: 0.046389\trec_macro: 0.052222\n",
      "===== Training Epoch 29 =====\n"
     ]
    },
    {
     "name": "stderr",
     "output_type": "stream",
     "text": [
      "/Users/tarlisportela/miniforge3/lib/python3.9/site-packages/sklearn/metrics/_classification.py:1327: UndefinedMetricWarning: Precision is ill-defined and being set to 0.0 in labels with no predicted samples. Use `zero_division` parameter to control this behavior.\n",
      "  _warn_prf(average, modifier, msg_start, len(result))\n",
      "/Users/tarlisportela/miniforge3/lib/python3.9/site-packages/sklearn/metrics/_classification.py:1327: UndefinedMetricWarning: Precision is ill-defined and being set to 0.0 in labels with no predicted samples. Use `zero_division` parameter to control this behavior.\n",
      "  _warn_prf(average, modifier, msg_start, len(result))\n"
     ]
    },
    {
     "name": "stdout",
     "output_type": "stream",
     "text": [
      "14/14 [==============================] - 0s 2ms/step\n",
      "TRAIN\t\tacc: 0.917226\tacc_top5: 0.984340\tf1_macro: 0.901981\tprec_macro: 0.904013\trec_macro: 0.911556\n",
      "12/12 [==============================] - 0s 2ms/step\n",
      "TEST\t\tacc: 0.061111\tacc_top5: 0.108333\tf1_macro: 0.047175\tprec_macro: 0.046389\trec_macro: 0.052222\n",
      "===== Training Epoch 30 =====\n"
     ]
    },
    {
     "name": "stderr",
     "output_type": "stream",
     "text": [
      "/Users/tarlisportela/miniforge3/lib/python3.9/site-packages/sklearn/metrics/_classification.py:1327: UndefinedMetricWarning: Precision is ill-defined and being set to 0.0 in labels with no predicted samples. Use `zero_division` parameter to control this behavior.\n",
      "  _warn_prf(average, modifier, msg_start, len(result))\n",
      "/Users/tarlisportela/miniforge3/lib/python3.9/site-packages/sklearn/metrics/_classification.py:1327: UndefinedMetricWarning: Precision is ill-defined and being set to 0.0 in labels with no predicted samples. Use `zero_division` parameter to control this behavior.\n",
      "  _warn_prf(average, modifier, msg_start, len(result))\n"
     ]
    },
    {
     "name": "stdout",
     "output_type": "stream",
     "text": [
      "14/14 [==============================] - 0s 2ms/step\n",
      "TRAIN\t\tacc: 0.917226\tacc_top5: 0.984340\tf1_macro: 0.901981\tprec_macro: 0.904013\trec_macro: 0.911556\n",
      "12/12 [==============================] - 0s 2ms/step\n",
      "TEST\t\tacc: 0.061111\tacc_top5: 0.111111\tf1_macro: 0.047175\tprec_macro: 0.046389\trec_macro: 0.052222\n",
      "===== Training Epoch 31 =====\n"
     ]
    },
    {
     "name": "stderr",
     "output_type": "stream",
     "text": [
      "/Users/tarlisportela/miniforge3/lib/python3.9/site-packages/sklearn/metrics/_classification.py:1327: UndefinedMetricWarning: Precision is ill-defined and being set to 0.0 in labels with no predicted samples. Use `zero_division` parameter to control this behavior.\n",
      "  _warn_prf(average, modifier, msg_start, len(result))\n",
      "/Users/tarlisportela/miniforge3/lib/python3.9/site-packages/sklearn/metrics/_classification.py:1327: UndefinedMetricWarning: Precision is ill-defined and being set to 0.0 in labels with no predicted samples. Use `zero_division` parameter to control this behavior.\n",
      "  _warn_prf(average, modifier, msg_start, len(result))\n"
     ]
    },
    {
     "name": "stdout",
     "output_type": "stream",
     "text": [
      "14/14 [==============================] - 0s 2ms/step\n",
      "TRAIN\t\tacc: 0.917226\tacc_top5: 0.984340\tf1_macro: 0.900204\tprec_macro: 0.901235\trec_macro: 0.909889\n",
      "12/12 [==============================] - 0s 2ms/step\n",
      "TEST\t\tacc: 0.061111\tacc_top5: 0.116667\tf1_macro: 0.046063\tprec_macro: 0.043889\trec_macro: 0.052222\n",
      "===== Training Epoch 32 =====\n"
     ]
    },
    {
     "name": "stderr",
     "output_type": "stream",
     "text": [
      "/Users/tarlisportela/miniforge3/lib/python3.9/site-packages/sklearn/metrics/_classification.py:1327: UndefinedMetricWarning: Precision is ill-defined and being set to 0.0 in labels with no predicted samples. Use `zero_division` parameter to control this behavior.\n",
      "  _warn_prf(average, modifier, msg_start, len(result))\n",
      "/Users/tarlisportela/miniforge3/lib/python3.9/site-packages/sklearn/metrics/_classification.py:1327: UndefinedMetricWarning: Precision is ill-defined and being set to 0.0 in labels with no predicted samples. Use `zero_division` parameter to control this behavior.\n",
      "  _warn_prf(average, modifier, msg_start, len(result))\n"
     ]
    },
    {
     "name": "stdout",
     "output_type": "stream",
     "text": [
      "14/14 [==============================] - 0s 2ms/step\n",
      "TRAIN\t\tacc: 0.917226\tacc_top5: 0.984340\tf1_macro: 0.900204\tprec_macro: 0.902346\trec_macro: 0.910444\n",
      "12/12 [==============================] - 0s 2ms/step\n",
      "TEST\t\tacc: 0.061111\tacc_top5: 0.116667\tf1_macro: 0.046063\tprec_macro: 0.043889\trec_macro: 0.052222\n",
      "===== Training Epoch 33 =====\n"
     ]
    },
    {
     "name": "stderr",
     "output_type": "stream",
     "text": [
      "/Users/tarlisportela/miniforge3/lib/python3.9/site-packages/sklearn/metrics/_classification.py:1327: UndefinedMetricWarning: Precision is ill-defined and being set to 0.0 in labels with no predicted samples. Use `zero_division` parameter to control this behavior.\n",
      "  _warn_prf(average, modifier, msg_start, len(result))\n",
      "/Users/tarlisportela/miniforge3/lib/python3.9/site-packages/sklearn/metrics/_classification.py:1327: UndefinedMetricWarning: Precision is ill-defined and being set to 0.0 in labels with no predicted samples. Use `zero_division` parameter to control this behavior.\n",
      "  _warn_prf(average, modifier, msg_start, len(result))\n"
     ]
    },
    {
     "name": "stdout",
     "output_type": "stream",
     "text": [
      "14/14 [==============================] - 0s 2ms/step\n",
      "TRAIN\t\tacc: 0.917226\tacc_top5: 0.984340\tf1_macro: 0.901981\tprec_macro: 0.904013\trec_macro: 0.911556\n",
      "12/12 [==============================] - 0s 2ms/step\n",
      "TEST\t\tacc: 0.061111\tacc_top5: 0.113889\tf1_macro: 0.047175\tprec_macro: 0.046389\trec_macro: 0.052222\n",
      "===== Training Epoch 34 =====\n"
     ]
    },
    {
     "name": "stderr",
     "output_type": "stream",
     "text": [
      "/Users/tarlisportela/miniforge3/lib/python3.9/site-packages/sklearn/metrics/_classification.py:1327: UndefinedMetricWarning: Precision is ill-defined and being set to 0.0 in labels with no predicted samples. Use `zero_division` parameter to control this behavior.\n",
      "  _warn_prf(average, modifier, msg_start, len(result))\n",
      "/Users/tarlisportela/miniforge3/lib/python3.9/site-packages/sklearn/metrics/_classification.py:1327: UndefinedMetricWarning: Precision is ill-defined and being set to 0.0 in labels with no predicted samples. Use `zero_division` parameter to control this behavior.\n",
      "  _warn_prf(average, modifier, msg_start, len(result))\n"
     ]
    },
    {
     "name": "stdout",
     "output_type": "stream",
     "text": [
      "14/14 [==============================] - 0s 2ms/step\n",
      "TRAIN\t\tacc: 0.917226\tacc_top5: 0.984340\tf1_macro: 0.900204\tprec_macro: 0.902346\trec_macro: 0.910444\n",
      "12/12 [==============================] - 0s 2ms/step\n",
      "TEST\t\tacc: 0.061111\tacc_top5: 0.113889\tf1_macro: 0.046063\tprec_macro: 0.043889\trec_macro: 0.052222\n",
      "===== Training Epoch 35 =====\n"
     ]
    },
    {
     "name": "stderr",
     "output_type": "stream",
     "text": [
      "/Users/tarlisportela/miniforge3/lib/python3.9/site-packages/sklearn/metrics/_classification.py:1327: UndefinedMetricWarning: Precision is ill-defined and being set to 0.0 in labels with no predicted samples. Use `zero_division` parameter to control this behavior.\n",
      "  _warn_prf(average, modifier, msg_start, len(result))\n",
      "/Users/tarlisportela/miniforge3/lib/python3.9/site-packages/sklearn/metrics/_classification.py:1327: UndefinedMetricWarning: Precision is ill-defined and being set to 0.0 in labels with no predicted samples. Use `zero_division` parameter to control this behavior.\n",
      "  _warn_prf(average, modifier, msg_start, len(result))\n"
     ]
    },
    {
     "name": "stdout",
     "output_type": "stream",
     "text": [
      "14/14 [==============================] - 0s 2ms/step\n",
      "TRAIN\t\tacc: 0.917226\tacc_top5: 0.984340\tf1_macro: 0.900204\tprec_macro: 0.901235\trec_macro: 0.909889\n",
      "12/12 [==============================] - 0s 2ms/step\n",
      "TEST\t\tacc: 0.063889\tacc_top5: 0.116667\tf1_macro: 0.048444\tprec_macro: 0.045833\trec_macro: 0.055556\n",
      "===== Training Epoch 36 =====\n"
     ]
    },
    {
     "name": "stderr",
     "output_type": "stream",
     "text": [
      "/Users/tarlisportela/miniforge3/lib/python3.9/site-packages/sklearn/metrics/_classification.py:1327: UndefinedMetricWarning: Precision is ill-defined and being set to 0.0 in labels with no predicted samples. Use `zero_division` parameter to control this behavior.\n",
      "  _warn_prf(average, modifier, msg_start, len(result))\n",
      "/Users/tarlisportela/miniforge3/lib/python3.9/site-packages/sklearn/metrics/_classification.py:1327: UndefinedMetricWarning: Precision is ill-defined and being set to 0.0 in labels with no predicted samples. Use `zero_division` parameter to control this behavior.\n",
      "  _warn_prf(average, modifier, msg_start, len(result))\n"
     ]
    },
    {
     "name": "stdout",
     "output_type": "stream",
     "text": [
      "14/14 [==============================] - 0s 2ms/step\n",
      "TRAIN\t\tacc: 0.917226\tacc_top5: 0.984340\tf1_macro: 0.900204\tprec_macro: 0.901235\trec_macro: 0.909889\n",
      "12/12 [==============================] - 0s 2ms/step\n",
      "TEST\t\tacc: 0.061111\tacc_top5: 0.116667\tf1_macro: 0.046063\tprec_macro: 0.043889\trec_macro: 0.052222\n",
      "===== Training Epoch 37 =====\n"
     ]
    },
    {
     "name": "stderr",
     "output_type": "stream",
     "text": [
      "/Users/tarlisportela/miniforge3/lib/python3.9/site-packages/sklearn/metrics/_classification.py:1327: UndefinedMetricWarning: Precision is ill-defined and being set to 0.0 in labels with no predicted samples. Use `zero_division` parameter to control this behavior.\n",
      "  _warn_prf(average, modifier, msg_start, len(result))\n",
      "/Users/tarlisportela/miniforge3/lib/python3.9/site-packages/sklearn/metrics/_classification.py:1327: UndefinedMetricWarning: Precision is ill-defined and being set to 0.0 in labels with no predicted samples. Use `zero_division` parameter to control this behavior.\n",
      "  _warn_prf(average, modifier, msg_start, len(result))\n"
     ]
    },
    {
     "name": "stdout",
     "output_type": "stream",
     "text": [
      "14/14 [==============================] - 0s 2ms/step\n",
      "TRAIN\t\tacc: 0.919463\tacc_top5: 0.984340\tf1_macro: 0.906426\tprec_macro: 0.909013\trec_macro: 0.914889\n",
      "12/12 [==============================] - 0s 2ms/step\n",
      "TEST\t\tacc: 0.061111\tacc_top5: 0.113889\tf1_macro: 0.047175\tprec_macro: 0.046389\trec_macro: 0.052222\n",
      "===== Training Epoch 38 =====\n"
     ]
    },
    {
     "name": "stderr",
     "output_type": "stream",
     "text": [
      "/Users/tarlisportela/miniforge3/lib/python3.9/site-packages/sklearn/metrics/_classification.py:1327: UndefinedMetricWarning: Precision is ill-defined and being set to 0.0 in labels with no predicted samples. Use `zero_division` parameter to control this behavior.\n",
      "  _warn_prf(average, modifier, msg_start, len(result))\n",
      "/Users/tarlisportela/miniforge3/lib/python3.9/site-packages/sklearn/metrics/_classification.py:1327: UndefinedMetricWarning: Precision is ill-defined and being set to 0.0 in labels with no predicted samples. Use `zero_division` parameter to control this behavior.\n",
      "  _warn_prf(average, modifier, msg_start, len(result))\n"
     ]
    },
    {
     "name": "stdout",
     "output_type": "stream",
     "text": [
      "14/14 [==============================] - 0s 2ms/step\n",
      "TRAIN\t\tacc: 0.917226\tacc_top5: 0.984340\tf1_macro: 0.901981\tprec_macro: 0.904013\trec_macro: 0.911556\n",
      "12/12 [==============================] - 0s 2ms/step\n",
      "TEST\t\tacc: 0.061111\tacc_top5: 0.111111\tf1_macro: 0.047175\tprec_macro: 0.046389\trec_macro: 0.052222\n",
      "===== Training Epoch 39 =====\n"
     ]
    },
    {
     "name": "stderr",
     "output_type": "stream",
     "text": [
      "/Users/tarlisportela/miniforge3/lib/python3.9/site-packages/sklearn/metrics/_classification.py:1327: UndefinedMetricWarning: Precision is ill-defined and being set to 0.0 in labels with no predicted samples. Use `zero_division` parameter to control this behavior.\n",
      "  _warn_prf(average, modifier, msg_start, len(result))\n",
      "/Users/tarlisportela/miniforge3/lib/python3.9/site-packages/sklearn/metrics/_classification.py:1327: UndefinedMetricWarning: Precision is ill-defined and being set to 0.0 in labels with no predicted samples. Use `zero_division` parameter to control this behavior.\n",
      "  _warn_prf(average, modifier, msg_start, len(result))\n"
     ]
    },
    {
     "name": "stdout",
     "output_type": "stream",
     "text": [
      "14/14 [==============================] - 0s 2ms/step\n",
      "TRAIN\t\tacc: 0.917226\tacc_top5: 0.984340\tf1_macro: 0.901981\tprec_macro: 0.904013\trec_macro: 0.911556\n",
      "12/12 [==============================] - 0s 2ms/step\n",
      "TEST\t\tacc: 0.063889\tacc_top5: 0.111111\tf1_macro: 0.049397\tprec_macro: 0.048056\trec_macro: 0.055556\n",
      "===== Training Epoch 40 =====\n"
     ]
    },
    {
     "name": "stderr",
     "output_type": "stream",
     "text": [
      "/Users/tarlisportela/miniforge3/lib/python3.9/site-packages/sklearn/metrics/_classification.py:1327: UndefinedMetricWarning: Precision is ill-defined and being set to 0.0 in labels with no predicted samples. Use `zero_division` parameter to control this behavior.\n",
      "  _warn_prf(average, modifier, msg_start, len(result))\n",
      "/Users/tarlisportela/miniforge3/lib/python3.9/site-packages/sklearn/metrics/_classification.py:1327: UndefinedMetricWarning: Precision is ill-defined and being set to 0.0 in labels with no predicted samples. Use `zero_division` parameter to control this behavior.\n",
      "  _warn_prf(average, modifier, msg_start, len(result))\n"
     ]
    },
    {
     "name": "stdout",
     "output_type": "stream",
     "text": [
      "14/14 [==============================] - 0s 2ms/step\n",
      "TRAIN\t\tacc: 0.917226\tacc_top5: 0.984340\tf1_macro: 0.903077\tprec_macro: 0.905457\trec_macro: 0.911556\n",
      "12/12 [==============================] - 0s 2ms/step\n",
      "TEST\t\tacc: 0.063889\tacc_top5: 0.108333\tf1_macro: 0.049397\tprec_macro: 0.048056\trec_macro: 0.055556\n",
      "===== Training Epoch 41 =====\n"
     ]
    },
    {
     "name": "stderr",
     "output_type": "stream",
     "text": [
      "/Users/tarlisportela/miniforge3/lib/python3.9/site-packages/sklearn/metrics/_classification.py:1327: UndefinedMetricWarning: Precision is ill-defined and being set to 0.0 in labels with no predicted samples. Use `zero_division` parameter to control this behavior.\n",
      "  _warn_prf(average, modifier, msg_start, len(result))\n",
      "/Users/tarlisportela/miniforge3/lib/python3.9/site-packages/sklearn/metrics/_classification.py:1327: UndefinedMetricWarning: Precision is ill-defined and being set to 0.0 in labels with no predicted samples. Use `zero_division` parameter to control this behavior.\n",
      "  _warn_prf(average, modifier, msg_start, len(result))\n"
     ]
    },
    {
     "name": "stdout",
     "output_type": "stream",
     "text": [
      "14/14 [==============================] - 0s 2ms/step\n",
      "TRAIN\t\tacc: 0.917226\tacc_top5: 0.984340\tf1_macro: 0.903077\tprec_macro: 0.906568\trec_macro: 0.912111\n",
      "12/12 [==============================] - 0s 2ms/step\n",
      "TEST\t\tacc: 0.063889\tacc_top5: 0.108333\tf1_macro: 0.049397\tprec_macro: 0.048056\trec_macro: 0.055556\n",
      "===== Training Epoch 42 =====\n"
     ]
    },
    {
     "name": "stderr",
     "output_type": "stream",
     "text": [
      "/Users/tarlisportela/miniforge3/lib/python3.9/site-packages/sklearn/metrics/_classification.py:1327: UndefinedMetricWarning: Precision is ill-defined and being set to 0.0 in labels with no predicted samples. Use `zero_division` parameter to control this behavior.\n",
      "  _warn_prf(average, modifier, msg_start, len(result))\n",
      "/Users/tarlisportela/miniforge3/lib/python3.9/site-packages/sklearn/metrics/_classification.py:1327: UndefinedMetricWarning: Precision is ill-defined and being set to 0.0 in labels with no predicted samples. Use `zero_division` parameter to control this behavior.\n",
      "  _warn_prf(average, modifier, msg_start, len(result))\n"
     ]
    },
    {
     "name": "stdout",
     "output_type": "stream",
     "text": [
      "14/14 [==============================] - 0s 2ms/step\n",
      "TRAIN\t\tacc: 0.917226\tacc_top5: 0.984340\tf1_macro: 0.901981\tprec_macro: 0.904013\trec_macro: 0.911556\n",
      "12/12 [==============================] - 0s 2ms/step\n",
      "TEST\t\tacc: 0.063889\tacc_top5: 0.108333\tf1_macro: 0.048841\tprec_macro: 0.047500\trec_macro: 0.055556\n",
      "===== Training Epoch 43 =====\n"
     ]
    },
    {
     "name": "stderr",
     "output_type": "stream",
     "text": [
      "/Users/tarlisportela/miniforge3/lib/python3.9/site-packages/sklearn/metrics/_classification.py:1327: UndefinedMetricWarning: Precision is ill-defined and being set to 0.0 in labels with no predicted samples. Use `zero_division` parameter to control this behavior.\n",
      "  _warn_prf(average, modifier, msg_start, len(result))\n",
      "/Users/tarlisportela/miniforge3/lib/python3.9/site-packages/sklearn/metrics/_classification.py:1327: UndefinedMetricWarning: Precision is ill-defined and being set to 0.0 in labels with no predicted samples. Use `zero_division` parameter to control this behavior.\n",
      "  _warn_prf(average, modifier, msg_start, len(result))\n"
     ]
    },
    {
     "name": "stdout",
     "output_type": "stream",
     "text": [
      "14/14 [==============================] - 0s 2ms/step\n",
      "TRAIN\t\tacc: 0.919463\tacc_top5: 0.984340\tf1_macro: 0.903069\tprec_macro: 0.904846\trec_macro: 0.913778\n",
      "12/12 [==============================] - 0s 2ms/step\n",
      "TEST\t\tacc: 0.063889\tacc_top5: 0.111111\tf1_macro: 0.048841\tprec_macro: 0.047500\trec_macro: 0.055556\n",
      "===== Training Epoch 44 =====\n"
     ]
    },
    {
     "name": "stderr",
     "output_type": "stream",
     "text": [
      "/Users/tarlisportela/miniforge3/lib/python3.9/site-packages/sklearn/metrics/_classification.py:1327: UndefinedMetricWarning: Precision is ill-defined and being set to 0.0 in labels with no predicted samples. Use `zero_division` parameter to control this behavior.\n",
      "  _warn_prf(average, modifier, msg_start, len(result))\n",
      "/Users/tarlisportela/miniforge3/lib/python3.9/site-packages/sklearn/metrics/_classification.py:1327: UndefinedMetricWarning: Precision is ill-defined and being set to 0.0 in labels with no predicted samples. Use `zero_division` parameter to control this behavior.\n",
      "  _warn_prf(average, modifier, msg_start, len(result))\n"
     ]
    },
    {
     "name": "stdout",
     "output_type": "stream",
     "text": [
      "14/14 [==============================] - 0s 2ms/step\n",
      "TRAIN\t\tacc: 0.919463\tacc_top5: 0.984340\tf1_macro: 0.903069\tprec_macro: 0.904846\trec_macro: 0.913778\n",
      "12/12 [==============================] - 0s 2ms/step\n",
      "TEST\t\tacc: 0.061111\tacc_top5: 0.108333\tf1_macro: 0.047175\tprec_macro: 0.046389\trec_macro: 0.052222\n",
      "[POI-S:] Processing time: {time_ext} milliseconds. Done.\n",
      "------------------------------------------------------------------------------------------------\n",
      "12/12 [==============================] - 0s 2ms/step\n"
     ]
    },
    {
     "name": "stderr",
     "output_type": "stream",
     "text": [
      "/Users/tarlisportela/miniforge3/lib/python3.9/site-packages/sklearn/metrics/_classification.py:1327: UndefinedMetricWarning: Precision is ill-defined and being set to 0.0 in labels with no predicted samples. Use `zero_division` parameter to control this behavior.\n",
      "  _warn_prf(average, modifier, msg_start, len(result))\n",
      "/Users/tarlisportela/miniforge3/lib/python3.9/site-packages/sklearn/metrics/_classification.py:1327: UndefinedMetricWarning: Precision is ill-defined and being set to 0.0 in labels with no predicted samples. Use `zero_division` parameter to control this behavior.\n",
      "  _warn_prf(average, modifier, msg_start, len(result))\n",
      "/Users/tarlisportela/miniforge3/lib/python3.9/site-packages/sklearn/metrics/_classification.py:1327: UndefinedMetricWarning: Precision is ill-defined and being set to 0.0 in labels with no predicted samples. Use `zero_division` parameter to control this behavior.\n",
      "  _warn_prf(average, modifier, msg_start, len(result))\n"
     ]
    }
   ],
   "source": [
    "from matanalysis.methods import POIS\n",
    "\n",
    "sequences = [1] # Sequence sizes to use, example, for 1, 2 or 3 points use: [1, 2, 3] \n",
    "features = ['poi'] # Features to build frequency matrix combined with sequence sizes, by default selects the feature with higher variance\n",
    "# method='npoi' # you can pass the extract method\n",
    "\n",
    "result = POIS(train, test, sequences, features)"
   ]
  },
  {
   "cell_type": "code",
   "execution_count": 18,
   "metadata": {},
   "outputs": [
    {
     "data": {
      "text/html": [
       "<div>\n",
       "<style scoped>\n",
       "    .dataframe tbody tr th:only-of-type {\n",
       "        vertical-align: middle;\n",
       "    }\n",
       "\n",
       "    .dataframe tbody tr th {\n",
       "        vertical-align: top;\n",
       "    }\n",
       "\n",
       "    .dataframe thead th {\n",
       "        text-align: right;\n",
       "    }\n",
       "</style>\n",
       "<table border=\"1\" class=\"dataframe\">\n",
       "  <thead>\n",
       "    <tr style=\"text-align: right;\">\n",
       "      <th></th>\n",
       "      <th>acc</th>\n",
       "      <th>acc_top_K5</th>\n",
       "      <th>balanced_accuracy</th>\n",
       "      <th>precision_macro</th>\n",
       "      <th>recall_macro</th>\n",
       "      <th>f1-macro</th>\n",
       "    </tr>\n",
       "  </thead>\n",
       "  <tbody>\n",
       "    <tr>\n",
       "      <th>0</th>\n",
       "      <td>0.016667</td>\n",
       "      <td>0</td>\n",
       "      <td>0.012778</td>\n",
       "      <td>0.007295</td>\n",
       "      <td>0.012778</td>\n",
       "      <td>0.008914</td>\n",
       "    </tr>\n",
       "  </tbody>\n",
       "</table>\n",
       "</div>"
      ],
      "text/plain": [
       "        acc  acc_top_K5  balanced_accuracy  precision_macro  recall_macro  \\\n",
       "0  0.016667           0           0.012778         0.007295      0.012778   \n",
       "\n",
       "   f1-macro  \n",
       "0  0.008914  "
      ]
     },
     "execution_count": 18,
     "metadata": {},
     "output_type": "execute_result"
    }
   ],
   "source": [
    "result"
   ]
  },
  {
   "cell_type": "markdown",
   "metadata": {},
   "source": [
    "If you want to use just the feature extractor, you can check `poifreq` submodule:"
   ]
  },
  {
   "cell_type": "code",
   "execution_count": 7,
   "metadata": {
    "collapsed": true,
    "jupyter": {
     "outputs_hidden": true
    },
    "tags": []
   },
   "outputs": [
    {
     "name": "stdout",
     "output_type": "stream",
     "text": [
      "[POIS:] Starting feature extractor ... \n",
      "Dataset: specific, Feature: poi, Sequence: 1\n",
      "Starting NPOI...\n",
      "[POIS:] Processing time: 23.630000000000003 milliseconds. Done.\n",
      "------------------------------------------------------------------------------------------------\n"
     ]
    },
    {
     "data": {
      "text/html": [
       "<div>\n",
       "<style scoped>\n",
       "    .dataframe tbody tr th:only-of-type {\n",
       "        vertical-align: middle;\n",
       "    }\n",
       "\n",
       "    .dataframe tbody tr th {\n",
       "        vertical-align: top;\n",
       "    }\n",
       "\n",
       "    .dataframe thead th {\n",
       "        text-align: right;\n",
       "    }\n",
       "</style>\n",
       "<table border=\"1\" class=\"dataframe\">\n",
       "  <thead>\n",
       "    <tr style=\"text-align: right;\">\n",
       "      <th></th>\n",
       "      <th>0</th>\n",
       "      <th>1</th>\n",
       "      <th>2</th>\n",
       "      <th>3</th>\n",
       "      <th>4</th>\n",
       "      <th>5</th>\n",
       "      <th>6</th>\n",
       "      <th>7</th>\n",
       "      <th>8</th>\n",
       "      <th>9</th>\n",
       "      <th>...</th>\n",
       "      <th>301</th>\n",
       "      <th>302</th>\n",
       "      <th>303</th>\n",
       "      <th>304</th>\n",
       "      <th>305</th>\n",
       "      <th>306</th>\n",
       "      <th>307</th>\n",
       "      <th>308</th>\n",
       "      <th>309</th>\n",
       "      <th>310</th>\n",
       "    </tr>\n",
       "  </thead>\n",
       "  <tbody>\n",
       "    <tr>\n",
       "      <th>0</th>\n",
       "      <td>0.02</td>\n",
       "      <td>0.06</td>\n",
       "      <td>0.12</td>\n",
       "      <td>0.02</td>\n",
       "      <td>0.02</td>\n",
       "      <td>0.02</td>\n",
       "      <td>0.02</td>\n",
       "      <td>0.04</td>\n",
       "      <td>0.02</td>\n",
       "      <td>0.02</td>\n",
       "      <td>...</td>\n",
       "      <td>0.0</td>\n",
       "      <td>0.0</td>\n",
       "      <td>0.0</td>\n",
       "      <td>0.00</td>\n",
       "      <td>0.0</td>\n",
       "      <td>0.0</td>\n",
       "      <td>0.0</td>\n",
       "      <td>0.0</td>\n",
       "      <td>0.00</td>\n",
       "      <td>0.00</td>\n",
       "    </tr>\n",
       "    <tr>\n",
       "      <th>1</th>\n",
       "      <td>0.00</td>\n",
       "      <td>0.12</td>\n",
       "      <td>0.08</td>\n",
       "      <td>0.00</td>\n",
       "      <td>0.00</td>\n",
       "      <td>0.00</td>\n",
       "      <td>0.00</td>\n",
       "      <td>0.02</td>\n",
       "      <td>0.00</td>\n",
       "      <td>0.04</td>\n",
       "      <td>...</td>\n",
       "      <td>0.0</td>\n",
       "      <td>0.0</td>\n",
       "      <td>0.0</td>\n",
       "      <td>0.00</td>\n",
       "      <td>0.0</td>\n",
       "      <td>0.0</td>\n",
       "      <td>0.0</td>\n",
       "      <td>0.0</td>\n",
       "      <td>0.00</td>\n",
       "      <td>0.00</td>\n",
       "    </tr>\n",
       "    <tr>\n",
       "      <th>2</th>\n",
       "      <td>0.00</td>\n",
       "      <td>0.12</td>\n",
       "      <td>0.08</td>\n",
       "      <td>0.00</td>\n",
       "      <td>0.00</td>\n",
       "      <td>0.00</td>\n",
       "      <td>0.00</td>\n",
       "      <td>0.02</td>\n",
       "      <td>0.02</td>\n",
       "      <td>0.00</td>\n",
       "      <td>...</td>\n",
       "      <td>0.0</td>\n",
       "      <td>0.0</td>\n",
       "      <td>0.0</td>\n",
       "      <td>0.00</td>\n",
       "      <td>0.0</td>\n",
       "      <td>0.0</td>\n",
       "      <td>0.0</td>\n",
       "      <td>0.0</td>\n",
       "      <td>0.00</td>\n",
       "      <td>0.00</td>\n",
       "    </tr>\n",
       "    <tr>\n",
       "      <th>3</th>\n",
       "      <td>0.02</td>\n",
       "      <td>0.14</td>\n",
       "      <td>0.06</td>\n",
       "      <td>0.00</td>\n",
       "      <td>0.00</td>\n",
       "      <td>0.00</td>\n",
       "      <td>0.02</td>\n",
       "      <td>0.00</td>\n",
       "      <td>0.00</td>\n",
       "      <td>0.02</td>\n",
       "      <td>...</td>\n",
       "      <td>0.0</td>\n",
       "      <td>0.0</td>\n",
       "      <td>0.0</td>\n",
       "      <td>0.00</td>\n",
       "      <td>0.0</td>\n",
       "      <td>0.0</td>\n",
       "      <td>0.0</td>\n",
       "      <td>0.0</td>\n",
       "      <td>0.00</td>\n",
       "      <td>0.00</td>\n",
       "    </tr>\n",
       "    <tr>\n",
       "      <th>4</th>\n",
       "      <td>0.00</td>\n",
       "      <td>0.10</td>\n",
       "      <td>0.16</td>\n",
       "      <td>0.00</td>\n",
       "      <td>0.00</td>\n",
       "      <td>0.00</td>\n",
       "      <td>0.02</td>\n",
       "      <td>0.04</td>\n",
       "      <td>0.00</td>\n",
       "      <td>0.00</td>\n",
       "      <td>...</td>\n",
       "      <td>0.0</td>\n",
       "      <td>0.0</td>\n",
       "      <td>0.0</td>\n",
       "      <td>0.00</td>\n",
       "      <td>0.0</td>\n",
       "      <td>0.0</td>\n",
       "      <td>0.0</td>\n",
       "      <td>0.0</td>\n",
       "      <td>0.00</td>\n",
       "      <td>0.00</td>\n",
       "    </tr>\n",
       "    <tr>\n",
       "      <th>...</th>\n",
       "      <td>...</td>\n",
       "      <td>...</td>\n",
       "      <td>...</td>\n",
       "      <td>...</td>\n",
       "      <td>...</td>\n",
       "      <td>...</td>\n",
       "      <td>...</td>\n",
       "      <td>...</td>\n",
       "      <td>...</td>\n",
       "      <td>...</td>\n",
       "      <td>...</td>\n",
       "      <td>...</td>\n",
       "      <td>...</td>\n",
       "      <td>...</td>\n",
       "      <td>...</td>\n",
       "      <td>...</td>\n",
       "      <td>...</td>\n",
       "      <td>...</td>\n",
       "      <td>...</td>\n",
       "      <td>...</td>\n",
       "      <td>...</td>\n",
       "    </tr>\n",
       "    <tr>\n",
       "      <th>65</th>\n",
       "      <td>0.00</td>\n",
       "      <td>0.14</td>\n",
       "      <td>0.08</td>\n",
       "      <td>0.00</td>\n",
       "      <td>0.00</td>\n",
       "      <td>0.00</td>\n",
       "      <td>0.06</td>\n",
       "      <td>0.02</td>\n",
       "      <td>0.00</td>\n",
       "      <td>0.00</td>\n",
       "      <td>...</td>\n",
       "      <td>0.0</td>\n",
       "      <td>0.0</td>\n",
       "      <td>0.0</td>\n",
       "      <td>0.00</td>\n",
       "      <td>0.0</td>\n",
       "      <td>0.0</td>\n",
       "      <td>0.0</td>\n",
       "      <td>0.0</td>\n",
       "      <td>0.02</td>\n",
       "      <td>0.00</td>\n",
       "    </tr>\n",
       "    <tr>\n",
       "      <th>66</th>\n",
       "      <td>0.00</td>\n",
       "      <td>0.16</td>\n",
       "      <td>0.08</td>\n",
       "      <td>0.00</td>\n",
       "      <td>0.00</td>\n",
       "      <td>0.00</td>\n",
       "      <td>0.04</td>\n",
       "      <td>0.00</td>\n",
       "      <td>0.00</td>\n",
       "      <td>0.02</td>\n",
       "      <td>...</td>\n",
       "      <td>0.0</td>\n",
       "      <td>0.0</td>\n",
       "      <td>0.0</td>\n",
       "      <td>0.00</td>\n",
       "      <td>0.0</td>\n",
       "      <td>0.0</td>\n",
       "      <td>0.0</td>\n",
       "      <td>0.0</td>\n",
       "      <td>0.00</td>\n",
       "      <td>0.00</td>\n",
       "    </tr>\n",
       "    <tr>\n",
       "      <th>67</th>\n",
       "      <td>0.02</td>\n",
       "      <td>0.18</td>\n",
       "      <td>0.06</td>\n",
       "      <td>0.00</td>\n",
       "      <td>0.00</td>\n",
       "      <td>0.00</td>\n",
       "      <td>0.00</td>\n",
       "      <td>0.00</td>\n",
       "      <td>0.00</td>\n",
       "      <td>0.04</td>\n",
       "      <td>...</td>\n",
       "      <td>0.0</td>\n",
       "      <td>0.0</td>\n",
       "      <td>0.0</td>\n",
       "      <td>0.00</td>\n",
       "      <td>0.0</td>\n",
       "      <td>0.0</td>\n",
       "      <td>0.0</td>\n",
       "      <td>0.0</td>\n",
       "      <td>0.00</td>\n",
       "      <td>0.02</td>\n",
       "    </tr>\n",
       "    <tr>\n",
       "      <th>68</th>\n",
       "      <td>0.00</td>\n",
       "      <td>0.04</td>\n",
       "      <td>0.08</td>\n",
       "      <td>0.00</td>\n",
       "      <td>0.00</td>\n",
       "      <td>0.00</td>\n",
       "      <td>0.02</td>\n",
       "      <td>0.00</td>\n",
       "      <td>0.00</td>\n",
       "      <td>0.04</td>\n",
       "      <td>...</td>\n",
       "      <td>0.0</td>\n",
       "      <td>0.0</td>\n",
       "      <td>0.0</td>\n",
       "      <td>0.02</td>\n",
       "      <td>0.0</td>\n",
       "      <td>0.0</td>\n",
       "      <td>0.0</td>\n",
       "      <td>0.0</td>\n",
       "      <td>0.00</td>\n",
       "      <td>0.00</td>\n",
       "    </tr>\n",
       "    <tr>\n",
       "      <th>69</th>\n",
       "      <td>0.02</td>\n",
       "      <td>0.14</td>\n",
       "      <td>0.08</td>\n",
       "      <td>0.00</td>\n",
       "      <td>0.00</td>\n",
       "      <td>0.04</td>\n",
       "      <td>0.00</td>\n",
       "      <td>0.00</td>\n",
       "      <td>0.02</td>\n",
       "      <td>0.02</td>\n",
       "      <td>...</td>\n",
       "      <td>0.0</td>\n",
       "      <td>0.0</td>\n",
       "      <td>0.0</td>\n",
       "      <td>0.00</td>\n",
       "      <td>0.0</td>\n",
       "      <td>0.0</td>\n",
       "      <td>0.0</td>\n",
       "      <td>0.0</td>\n",
       "      <td>0.00</td>\n",
       "      <td>0.00</td>\n",
       "    </tr>\n",
       "  </tbody>\n",
       "</table>\n",
       "<p>70 rows × 311 columns</p>\n",
       "</div>"
      ],
      "text/plain": [
       "     0     1     2     3     4     5     6     7     8     9    ...  301  302  \\\n",
       "0   0.02  0.06  0.12  0.02  0.02  0.02  0.02  0.04  0.02  0.02  ...  0.0  0.0   \n",
       "1   0.00  0.12  0.08  0.00  0.00  0.00  0.00  0.02  0.00  0.04  ...  0.0  0.0   \n",
       "2   0.00  0.12  0.08  0.00  0.00  0.00  0.00  0.02  0.02  0.00  ...  0.0  0.0   \n",
       "3   0.02  0.14  0.06  0.00  0.00  0.00  0.02  0.00  0.00  0.02  ...  0.0  0.0   \n",
       "4   0.00  0.10  0.16  0.00  0.00  0.00  0.02  0.04  0.00  0.00  ...  0.0  0.0   \n",
       "..   ...   ...   ...   ...   ...   ...   ...   ...   ...   ...  ...  ...  ...   \n",
       "65  0.00  0.14  0.08  0.00  0.00  0.00  0.06  0.02  0.00  0.00  ...  0.0  0.0   \n",
       "66  0.00  0.16  0.08  0.00  0.00  0.00  0.04  0.00  0.00  0.02  ...  0.0  0.0   \n",
       "67  0.02  0.18  0.06  0.00  0.00  0.00  0.00  0.00  0.00  0.04  ...  0.0  0.0   \n",
       "68  0.00  0.04  0.08  0.00  0.00  0.00  0.02  0.00  0.00  0.04  ...  0.0  0.0   \n",
       "69  0.02  0.14  0.08  0.00  0.00  0.04  0.00  0.00  0.02  0.02  ...  0.0  0.0   \n",
       "\n",
       "    303   304  305  306  307  308   309   310  \n",
       "0   0.0  0.00  0.0  0.0  0.0  0.0  0.00  0.00  \n",
       "1   0.0  0.00  0.0  0.0  0.0  0.0  0.00  0.00  \n",
       "2   0.0  0.00  0.0  0.0  0.0  0.0  0.00  0.00  \n",
       "3   0.0  0.00  0.0  0.0  0.0  0.0  0.00  0.00  \n",
       "4   0.0  0.00  0.0  0.0  0.0  0.0  0.00  0.00  \n",
       "..  ...   ...  ...  ...  ...  ...   ...   ...  \n",
       "65  0.0  0.00  0.0  0.0  0.0  0.0  0.02  0.00  \n",
       "66  0.0  0.00  0.0  0.0  0.0  0.0  0.00  0.00  \n",
       "67  0.0  0.00  0.0  0.0  0.0  0.0  0.00  0.02  \n",
       "68  0.0  0.02  0.0  0.0  0.0  0.0  0.00  0.00  \n",
       "69  0.0  0.00  0.0  0.0  0.0  0.0  0.00  0.00  \n",
       "\n",
       "[70 rows x 311 columns]"
      ]
     },
     "metadata": {},
     "output_type": "display_data"
    }
   ],
   "source": [
    "from matanalysis.methods.pois.poifreq import pois\n",
    "\n",
    "method='npoi' # default: 'npoi', or, 'poi' and 'wnpoi'\n",
    "\n",
    "x_train, x_test, y_train, y_test, _ = pois(train, test, sequences, features, method)\n",
    "\n",
    "display(x_train)"
   ]
  },
  {
   "cell_type": "markdown",
   "metadata": {},
   "source": [
    "And then you can use the `pois_model` to create the classifier. Import from:\n",
    "```\n",
    "from matanalysis.methods.pois.model_poifreq import pois_model`\n",
    "pois_model(x_train, x_test, y_train, y_test)\n",
    "```\n"
   ]
  },
  {
   "cell_type": "markdown",
   "metadata": {
    "tags": []
   },
   "source": [
    "#### 2.1.3. DeepestST\n",
    "\n",
    "TODO"
   ]
  },
  {
   "cell_type": "code",
   "execution_count": 19,
   "metadata": {
    "tags": []
   },
   "outputs": [],
   "source": [
    "from matanalysis.methods import DeepestST"
   ]
  },
  {
   "cell_type": "markdown",
   "metadata": {},
   "source": [
    "TODO"
   ]
  },
  {
   "cell_type": "code",
   "execution_count": null,
   "metadata": {
    "scrolled": true,
    "tags": []
   },
   "outputs": [
    {
     "name": "stdout",
     "output_type": "stream",
     "text": [
      "\n",
      "###########    DATA PREPARATION      ###########\n",
      "\n",
      "Creating a virtual grid without polygons\n",
      "...cell size by degree: 0.0002706929603721246\n",
      "...grid_size_lat_y:376729\n",
      "...grid_size_lon_x:1168496\n",
      "...A virtual grid was created\n",
      "\n",
      "Creating or updating index of the grid feature..\n",
      "\n",
      "...[7570,7570] indexes were created to lat and lon\n",
      "\n",
      "Creating or updating index of the grid feature..\n",
      "\n",
      "...[5785,5785] indexes were created to lat and lon\n"
     ]
    },
    {
     "data": {
      "application/vnd.jupyter.widget-view+json": {
       "model_id": "95830bf4aab040a68e9f68a5256f71ae",
       "version_major": 2,
       "version_minor": 0
      },
      "text/plain": [
       "  0%|          | 0/300 [00:00<?, ?it/s]"
      ]
     },
     "metadata": {},
     "output_type": "display_data"
    },
    {
     "name": "stdout",
     "output_type": "stream",
     "text": [
      "Attribute 'time': 1401 unique values\n",
      "Attribute 'day': 7 unique values\n",
      "Attribute 'poi': 1039 unique values\n",
      "Attribute 'tid': 349 unique values\n",
      "Attribute 'index_grid': 1017 unique values\n",
      "Total of attribute/value pairs: 3813\n",
      "\n",
      "\n",
      "###########      DATA ENCODING        ###########\n",
      "\n",
      "Input total: 3\n",
      "... tid_0: 349\n",
      "... tid_1: 98\n",
      "... tid_2: 360\n",
      "col_name: ['time', 'day', 'poi', 'tid', 'label', 'index_grid']...\n",
      "... num_classes: 300\n",
      "... max_lenght: 48\n",
      "Removing column tid of attr\n",
      "Removing column label of attr\n",
      "\n",
      "\n",
      "#####   Encoding string data to integer   ######\n",
      "   Encoding: time\n",
      "   Encoding: day\n",
      "   Encoding: poi\n",
      "   Encoding: index_grid\n",
      "\n",
      "\n",
      "###########      Generating y_train and y_test     ###########\n",
      "OneHot encoding on label y\n",
      "Input total: 3\n",
      "\n",
      "[DEEPEST:] Building DeepestST Model\n",
      "[DEEPEST:] Starting model training, 100 iterations\n"
     ]
    },
    {
     "data": {
      "application/vnd.jupyter.widget-view+json": {
       "model_id": "897f9c4a93a1441ea274fb3116b6f470",
       "version_major": 2,
       "version_minor": 0
      },
      "text/plain": [
       "[DEEPEST:] Model Training:   0%|          | 0/100 [00:00<?, ?it/s]"
      ]
     },
     "metadata": {},
     "output_type": "display_data"
    },
    {
     "data": {
      "application/vnd.jupyter.widget-view+json": {
       "model_id": "34043364066648dc9d5fa58a4a27f57e",
       "version_major": 2,
       "version_minor": 0
      },
      "text/plain": [
       "  0%|          | 0/4 [00:00<?, ?it/s]"
      ]
     },
     "metadata": {},
     "output_type": "display_data"
    },
    {
     "name": "stdout",
     "output_type": "stream",
     "text": [
      "Epoch 1/1000\n"
     ]
    },
    {
     "name": "stderr",
     "output_type": "stream",
     "text": [
      "/Users/tarlisportela/miniforge3/lib/python3.9/site-packages/keras/optimizers/optimizer_v2/adam.py:110: UserWarning: The `lr` argument is deprecated, use `learning_rate` instead.\n",
      "  super(Adam, self).__init__(name, **kwargs)\n",
      "2023-12-17 01:45:29.470320: I tensorflow/core/grappler/optimizers/custom_graph_optimizer_registry.cc:113] Plugin optimizer for device_type GPU is enabled.\n",
      "2023-12-17 01:45:29.712284: I tensorflow/core/grappler/optimizers/custom_graph_optimizer_registry.cc:113] Plugin optimizer for device_type GPU is enabled.\n",
      "2023-12-17 01:45:29.724093: I tensorflow/core/grappler/optimizers/custom_graph_optimizer_registry.cc:113] Plugin optimizer for device_type GPU is enabled.\n",
      "2023-12-17 01:45:29.968839: I tensorflow/core/grappler/optimizers/custom_graph_optimizer_registry.cc:113] Plugin optimizer for device_type GPU is enabled.\n",
      "2023-12-17 01:45:29.981988: I tensorflow/core/grappler/optimizers/custom_graph_optimizer_registry.cc:113] Plugin optimizer for device_type GPU is enabled.\n"
     ]
    },
    {
     "name": "stdout",
     "output_type": "stream",
     "text": [
      "6/6 [==============================] - ETA: 0s - loss: 66.0911 - acc: 0.0029 - top_k_categorical_accuracy: 0.0258 "
     ]
    },
    {
     "name": "stderr",
     "output_type": "stream",
     "text": [
      "2023-12-17 01:45:31.578804: I tensorflow/core/grappler/optimizers/custom_graph_optimizer_registry.cc:113] Plugin optimizer for device_type GPU is enabled.\n",
      "2023-12-17 01:45:31.687078: I tensorflow/core/grappler/optimizers/custom_graph_optimizer_registry.cc:113] Plugin optimizer for device_type GPU is enabled.\n",
      "2023-12-17 01:45:31.694508: I tensorflow/core/grappler/optimizers/custom_graph_optimizer_registry.cc:113] Plugin optimizer for device_type GPU is enabled.\n"
     ]
    },
    {
     "name": "stdout",
     "output_type": "stream",
     "text": [
      "6/6 [==============================] - 4s 344ms/step - loss: 66.0911 - acc: 0.0029 - top_k_categorical_accuracy: 0.0258 - val_loss: 60.5140 - val_acc: 0.0204 - val_top_k_categorical_accuracy: 0.0306\n",
      "Epoch 2/1000\n",
      "6/6 [==============================] - 1s 161ms/step - loss: 57.4103 - acc: 0.0086 - top_k_categorical_accuracy: 0.0516 - val_loss: 52.4568 - val_acc: 0.0204 - val_top_k_categorical_accuracy: 0.0714\n",
      "Epoch 3/1000\n",
      "6/6 [==============================] - 1s 137ms/step - loss: 49.6879 - acc: 0.0487 - top_k_categorical_accuracy: 0.1003 - val_loss: 45.2960 - val_acc: 0.0408 - val_top_k_categorical_accuracy: 0.1224\n",
      "Epoch 4/1000\n",
      "6/6 [==============================] - 1s 123ms/step - loss: 42.8303 - acc: 0.0487 - top_k_categorical_accuracy: 0.1719 - val_loss: 38.9617 - val_acc: 0.0306 - val_top_k_categorical_accuracy: 0.1224\n",
      "Epoch 5/1000\n",
      "6/6 [==============================] - 1s 124ms/step - loss: 36.7856 - acc: 0.0602 - top_k_categorical_accuracy: 0.1862 - val_loss: 33.4148 - val_acc: 0.0408 - val_top_k_categorical_accuracy: 0.1327\n",
      "Epoch 6/1000\n",
      "6/6 [==============================] - 1s 125ms/step - loss: 31.5022 - acc: 0.0630 - top_k_categorical_accuracy: 0.1777 - val_loss: 28.5740 - val_acc: 0.0510 - val_top_k_categorical_accuracy: 0.1327\n",
      "Epoch 7/1000\n",
      "6/6 [==============================] - 1s 114ms/step - loss: 26.9051 - acc: 0.0602 - top_k_categorical_accuracy: 0.1748 - val_loss: 24.3918 - val_acc: 0.0714 - val_top_k_categorical_accuracy: 0.1327\n",
      "Epoch 8/1000\n",
      "6/6 [==============================] - 1s 114ms/step - loss: 22.9414 - acc: 0.0860 - top_k_categorical_accuracy: 0.1920 - val_loss: 20.8081 - val_acc: 0.0612 - val_top_k_categorical_accuracy: 0.1633\n",
      "Epoch 9/1000\n",
      "6/6 [==============================] - 1s 117ms/step - loss: 19.5717 - acc: 0.1003 - top_k_categorical_accuracy: 0.1977 - val_loss: 17.8049 - val_acc: 0.0714 - val_top_k_categorical_accuracy: 0.1633\n",
      "Epoch 10/1000\n",
      "6/6 [==============================] - 1s 109ms/step - loss: 16.7384 - acc: 0.0974 - top_k_categorical_accuracy: 0.2092 - val_loss: 15.2821 - val_acc: 0.0612 - val_top_k_categorical_accuracy: 0.1735\n",
      "Epoch 11/1000\n",
      "6/6 [==============================] - 1s 105ms/step - loss: 14.3629 - acc: 0.1089 - top_k_categorical_accuracy: 0.2006 - val_loss: 13.2037 - val_acc: 0.0612 - val_top_k_categorical_accuracy: 0.1837\n",
      "Epoch 12/1000\n",
      "6/6 [==============================] - 1s 106ms/step - loss: 12.4042 - acc: 0.1261 - top_k_categorical_accuracy: 0.2092 - val_loss: 11.4940 - val_acc: 0.0714 - val_top_k_categorical_accuracy: 0.1939\n",
      "Epoch 13/1000\n",
      "6/6 [==============================] - 1s 116ms/step - loss: 10.7851 - acc: 0.1375 - top_k_categorical_accuracy: 0.2120 - val_loss: 10.1014 - val_acc: 0.1122 - val_top_k_categorical_accuracy: 0.2143\n",
      "Epoch 14/1000\n",
      "6/6 [==============================] - 1s 91ms/step - loss: 9.4605 - acc: 0.1203 - top_k_categorical_accuracy: 0.2235 - val_loss: 8.9723 - val_acc: 0.1122 - val_top_k_categorical_accuracy: 0.2347\n",
      "Epoch 15/1000\n",
      "6/6 [==============================] - 1s 107ms/step - loss: 8.3639 - acc: 0.1461 - top_k_categorical_accuracy: 0.2292 - val_loss: 8.0540 - val_acc: 0.1122 - val_top_k_categorical_accuracy: 0.2551\n",
      "Epoch 16/1000\n",
      "6/6 [==============================] - 1s 110ms/step - loss: 7.4601 - acc: 0.1662 - top_k_categorical_accuracy: 0.2865 - val_loss: 7.3175 - val_acc: 0.1429 - val_top_k_categorical_accuracy: 0.2959\n",
      "Epoch 17/1000\n",
      "6/6 [==============================] - 1s 94ms/step - loss: 6.6645 - acc: 0.1834 - top_k_categorical_accuracy: 0.3639 - val_loss: 6.7048 - val_acc: 0.1837 - val_top_k_categorical_accuracy: 0.3061\n",
      "Epoch 18/1000\n",
      "6/6 [==============================] - 1s 115ms/step - loss: 5.9732 - acc: 0.2493 - top_k_categorical_accuracy: 0.5272 - val_loss: 6.1787 - val_acc: 0.2245 - val_top_k_categorical_accuracy: 0.3061\n",
      "Epoch 19/1000\n",
      "6/6 [==============================] - 1s 95ms/step - loss: 5.3397 - acc: 0.3324 - top_k_categorical_accuracy: 0.6590 - val_loss: 5.7073 - val_acc: 0.2449 - val_top_k_categorical_accuracy: 0.3673\n",
      "Epoch 20/1000\n",
      "6/6 [==============================] - 1s 100ms/step - loss: 4.7303 - acc: 0.4355 - top_k_categorical_accuracy: 0.8395 - val_loss: 5.2486 - val_acc: 0.3163 - val_top_k_categorical_accuracy: 0.4898\n",
      "Epoch 21/1000\n",
      "6/6 [==============================] - 1s 92ms/step - loss: 4.0600 - acc: 0.6476 - top_k_categorical_accuracy: 0.9427 - val_loss: 4.7932 - val_acc: 0.4694 - val_top_k_categorical_accuracy: 0.6122\n",
      "Epoch 22/1000\n",
      "6/6 [==============================] - 1s 101ms/step - loss: 3.4386 - acc: 0.8453 - top_k_categorical_accuracy: 0.9857 - val_loss: 4.3527 - val_acc: 0.5612 - val_top_k_categorical_accuracy: 0.6837\n",
      "Epoch 23/1000\n",
      "6/6 [==============================] - 1s 90ms/step - loss: 2.7857 - acc: 0.9284 - top_k_categorical_accuracy: 0.9914 - val_loss: 3.9308 - val_acc: 0.6020 - val_top_k_categorical_accuracy: 0.7143\n",
      "Epoch 24/1000\n",
      "6/6 [==============================] - 1s 95ms/step - loss: 2.1686 - acc: 0.9542 - top_k_categorical_accuracy: 1.0000 - val_loss: 3.5229 - val_acc: 0.6224 - val_top_k_categorical_accuracy: 0.7347\n",
      "Epoch 25/1000\n",
      "5/6 [========================>.....] - ETA: 0s - loss: 1.6877 - acc: 0.9656 - top_k_categorical_accuracy: 1.0000"
     ]
    }
   ],
   "source": [
    "result = DeepestST(train, test)"
   ]
  },
  {
   "cell_type": "code",
   "execution_count": null,
   "metadata": {},
   "outputs": [],
   "source": [
    "result"
   ]
  },
  {
   "cell_type": "markdown",
   "metadata": {
    "tags": []
   },
   "source": [
    "#### 2.1.4. Trajectory Random Forrest (TRF)\n",
    "\n",
    "TODO"
   ]
  },
  {
   "cell_type": "code",
   "execution_count": null,
   "metadata": {
    "tags": []
   },
   "outputs": [],
   "source": [
    "from matanalysis.methods import TRF"
   ]
  },
  {
   "cell_type": "markdown",
   "metadata": {},
   "source": [
    "TODO"
   ]
  },
  {
   "cell_type": "code",
   "execution_count": null,
   "metadata": {
    "scrolled": true,
    "tags": []
   },
   "outputs": [],
   "source": [
    "result = TRF(train, test)"
   ]
  },
  {
   "cell_type": "code",
   "execution_count": null,
   "metadata": {},
   "outputs": [],
   "source": [
    "result"
   ]
  },
  {
   "cell_type": "markdown",
   "metadata": {
    "tags": []
   },
   "source": [
    "#### 2.1.5. Trajectory XGBoost (TXGB)\n",
    "\n",
    "TODO"
   ]
  },
  {
   "cell_type": "code",
   "execution_count": null,
   "metadata": {
    "tags": []
   },
   "outputs": [],
   "source": [
    "from matanalysis.methods import TXGB"
   ]
  },
  {
   "cell_type": "markdown",
   "metadata": {},
   "source": [
    "TODO"
   ]
  },
  {
   "cell_type": "code",
   "execution_count": null,
   "metadata": {
    "scrolled": true,
    "tags": []
   },
   "outputs": [],
   "source": [
    "result = TXGB(train, test)"
   ]
  },
  {
   "cell_type": "code",
   "execution_count": null,
   "metadata": {},
   "outputs": [],
   "source": [
    "result"
   ]
  },
  {
   "cell_type": "markdown",
   "metadata": {
    "tags": []
   },
   "source": [
    "#### 2.1.6. BITULER\n",
    "\n",
    "TODO"
   ]
  },
  {
   "cell_type": "code",
   "execution_count": null,
   "metadata": {
    "tags": []
   },
   "outputs": [],
   "source": [
    "from matanalysis.methods import BITULER"
   ]
  },
  {
   "cell_type": "markdown",
   "metadata": {},
   "source": [
    "TODO"
   ]
  },
  {
   "cell_type": "code",
   "execution_count": null,
   "metadata": {
    "scrolled": true,
    "tags": []
   },
   "outputs": [],
   "source": [
    "result = BITULER(train, test)"
   ]
  },
  {
   "cell_type": "code",
   "execution_count": null,
   "metadata": {},
   "outputs": [],
   "source": [
    "result"
   ]
  },
  {
   "cell_type": "markdown",
   "metadata": {
    "tags": []
   },
   "source": [
    "#### 2.1.7. TULVAE\n",
    "\n",
    "TODO"
   ]
  },
  {
   "cell_type": "code",
   "execution_count": null,
   "metadata": {
    "tags": []
   },
   "outputs": [],
   "source": [
    "from matanalysis.methods import TULVAE"
   ]
  },
  {
   "cell_type": "markdown",
   "metadata": {},
   "source": [
    "TODO"
   ]
  },
  {
   "cell_type": "code",
   "execution_count": null,
   "metadata": {
    "scrolled": true,
    "tags": []
   },
   "outputs": [],
   "source": [
    "result = TULVAE(train, test)"
   ]
  },
  {
   "cell_type": "code",
   "execution_count": null,
   "metadata": {},
   "outputs": [],
   "source": [
    "result"
   ]
  },
  {
   "cell_type": "markdown",
   "metadata": {},
   "source": [
    "### 2.2. Movelet Based Methods\n",
    "\n",
    "TODO"
   ]
  },
  {
   "cell_type": "code",
   "execution_count": 6,
   "metadata": {
    "tags": []
   },
   "outputs": [],
   "source": [
    "from matanalysis.methods import TRF"
   ]
  },
  {
   "cell_type": "markdown",
   "metadata": {},
   "source": [
    "TODO"
   ]
  },
  {
   "cell_type": "code",
   "execution_count": null,
   "metadata": {
    "tags": []
   },
   "outputs": [],
   "source": [
    "TRF(train, test)"
   ]
  },
  {
   "cell_type": "markdown",
   "metadata": {},
   "source": [
    "### 2.3. Ensemble Based Methods\n",
    "\n",
    "TODO"
   ]
  },
  {
   "cell_type": "code",
   "execution_count": 6,
   "metadata": {
    "tags": []
   },
   "outputs": [],
   "source": [
    "from matanalysis.methods import TEC"
   ]
  },
  {
   "cell_type": "markdown",
   "metadata": {},
   "source": [
    "TODO"
   ]
  },
  {
   "cell_type": "code",
   "execution_count": null,
   "metadata": {
    "tags": []
   },
   "outputs": [],
   "source": [
    "TEC(train, test)"
   ]
  },
  {
   "cell_type": "markdown",
   "metadata": {},
   "source": [
    "\\# By Tarlis Portela (2023)"
   ]
  }
 ],
 "metadata": {
  "kernelspec": {
   "display_name": "Python 3 (ipykernel)",
   "language": "python",
   "name": "python3"
  },
  "language_info": {
   "codemirror_mode": {
    "name": "ipython",
    "version": 3
   },
   "file_extension": ".py",
   "mimetype": "text/x-python",
   "name": "python",
   "nbconvert_exporter": "python",
   "pygments_lexer": "ipython3",
   "version": "3.9.13"
  }
 },
 "nbformat": 4,
 "nbformat_minor": 4
}
